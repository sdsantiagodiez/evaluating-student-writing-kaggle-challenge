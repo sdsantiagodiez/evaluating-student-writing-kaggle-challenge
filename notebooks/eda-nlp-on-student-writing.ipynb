{
 "cells": [
  {
   "cell_type": "markdown",
   "id": "60ca5583",
   "metadata": {
    "papermill": {
     "duration": 0.030618,
     "end_time": "2021-12-27T22:07:18.097743",
     "exception": false,
     "start_time": "2021-12-27T22:07:18.067125",
     "status": "completed"
    },
    "tags": []
   },
   "source": [
    "# Feedback Prize - Evaluating Student Writing"
   ]
  },
  {
   "cell_type": "markdown",
   "id": "28bc2472",
   "metadata": {},
   "source": [
    "The following EDA Jupyter Notebook is a combination of the work done by [Rob Mulla](https://www.kaggle.com/robikscube) ([🎓 Student Writing Competition [Twitch Stream]](https://www.kaggle.com/robikscube/student-writing-competition-twitch-stream/notebook?scriptVersionId=83303421)) and [Erik Bruin](https://www.kaggle.com/erikbruin) ([NLP on Student Writing: EDA](https://www.kaggle.com/erikbruin/nlp-on-student-writing-eda)). The code and analysis is pretty much the same, there are just some refactors and minimal additions that were made in order to combine them into a single notebook\n",
    "\n",
    "If the notebook below was helpful in any way to you, make sure to review and upvote the original code on their Kaggle posts"
   ]
  },
  {
   "cell_type": "code",
   "execution_count": 1,
   "id": "ef5f3ff0",
   "metadata": {},
   "outputs": [],
   "source": [
    "\"\"\"\n",
    "Changing working directory to repository path \n",
    "in order to make simpler references to files/folder.\n",
    "\n",
    "Also, adding src folder in the repository to import\n",
    "any code that has been moved to py files for reusability\n",
    "\"\"\"\n",
    "\n",
    "import os\n",
    "REPOSITORY_PATH = '/mnt/batch/tasks/shared/LS_root/mounts/clusters/mlgpu2/code/Users/santiago.a.diez/evaluating-student-writing-kaggle-challenge'\n",
    "os.chdir(REPOSITORY_PATH)\n",
    "import sys  \n",
    "sys.path.insert(0, 'src')"
   ]
  },
  {
   "cell_type": "markdown",
   "id": "ba3a54e4",
   "metadata": {},
   "source": []
  },
  {
   "cell_type": "code",
   "execution_count": 26,
   "id": "f803bae9",
   "metadata": {
    "_cell_guid": "b1076dfc-b9ad-4769-8c92-a6c4dae69d19",
    "_kg_hide-input": true,
    "_uuid": "8f2839f25d086af736a60e9eeb907d3b93b6e0e5",
    "execution": {
     "iopub.execute_input": "2021-12-27T22:07:18.164879Z",
     "iopub.status.busy": "2021-12-27T22:07:18.159540Z",
     "iopub.status.idle": "2021-12-27T22:07:27.931290Z",
     "shell.execute_reply": "2021-12-27T22:07:27.930469Z",
     "shell.execute_reply.started": "2021-12-26T09:00:58.911683Z"
    },
    "papermill": {
     "duration": 9.803877,
     "end_time": "2021-12-27T22:07:27.931499",
     "exception": false,
     "start_time": "2021-12-27T22:07:18.127622",
     "status": "completed"
    },
    "tags": []
   },
   "outputs": [],
   "source": [
    "import numpy as np\n",
    "import pandas as pd\n",
    "from glob import glob\n",
    "import matplotlib.pyplot as plt\n",
    "%matplotlib inline\n",
    "from nltk.corpus import stopwords\n",
    "from tqdm.notebook import tqdm\n",
    "import warnings\n",
    "warnings.filterwarnings('ignore')\n",
    "import spacy\n",
    "from itertools import cycle\n",
    "import seaborn as sns\n",
    "from random import randint\n",
    "\n",
    "from eswkg.config import Config"
   ]
  },
  {
   "cell_type": "code",
   "execution_count": 3,
   "id": "ce2789cb",
   "metadata": {},
   "outputs": [],
   "source": [
    "plt.style.use(\"ggplot\")\n",
    "color_pal = plt.rcParams[\"axes.prop_cycle\"].by_key()[\"color\"]\n",
    "color_cycle = cycle(plt.rcParams[\"axes.prop_cycle\"].by_key()[\"color\"])"
   ]
  },
  {
   "cell_type": "code",
   "execution_count": 25,
   "id": "46e0329b",
   "metadata": {},
   "outputs": [],
   "source": [
    "def read_essay(essay_id):\n",
    "    with open(Config.get_file_path(config_key=\"train_folder\") + f\"/{essay_id}.txt\") as f:\n",
    "        essay = f.read()\n",
    "    return essay\n",
    "\n",
    "\n",
    "def get_discourse_color_map():\n",
    "    return  {\n",
    "        \"Lead\": 1,  # 1 red\n",
    "        \"Position\": 2,  # 2 green\n",
    "        \"Evidence\": 3,  # 3 yellow\n",
    "        \"Claim\": 4,  # 4 blue\n",
    "        \"Concluding Statement\": 5,  # 5 magenta\n",
    "        \"Counterclaim\": 6,  # 6 cyan\n",
    "        \"Rebuttal\": 7,  # 7 white\n",
    "        \"None\": 9,  # default\n",
    "    } \n",
    "\n",
    "\n",
    "def text_to_color(essay, discourse_type, predictionstring):\n",
    "    \"\"\"\n",
    "    Takes an entire essay, the discourse type and prediction string.\n",
    "    Returns highlighted text for the prediction string\n",
    "    \"\"\"\n",
    "    hcolor = get_discourse_color_map()[discourse_type]\n",
    "    text_index = [int(c) for c in predictionstring.split()]\n",
    "    text_subset = \" \".join(np.array(essay.split())[text_index])\n",
    "\n",
    "    return f\"\\033[4{hcolor};30m{text_subset}\\033[m\"\n",
    "\n",
    "\n",
    "def get_discourse_prediction_strings(train, essay_id):\n",
    "        discourse_prediction_strings = \" \".join(train.query(\"id == @essay_id\")[\"predictionstring\"].values)\n",
    "        return [int(c) for c in discourse_prediction_strings.split()]\n",
    "\n",
    "\n",
    "def get_non_discourse_cluster(non_discourse):\n",
    "    non_discourse.columns = [\"predictionstring\"]\n",
    "    non_discourse[\"cluster\"] = (\n",
    "            non_discourse[\"predictionstring\"].diff().fillna(1) > 1\n",
    "        ).cumsum()\n",
    "\n",
    "    return non_discourse.groupby(\"cluster\")\n",
    "\n",
    "\n",
    "def get_non_discourse_strings(non_discourse):\n",
    "    non_discourse_strings = []\n",
    "    for i, d in get_non_discourse_cluster(non_discourse):\n",
    "        pred_string = [str(x) for x in d[\"predictionstring\"].values]\n",
    "        non_discourse_strings.append(\" \".join(pred_string))\n",
    "    return non_discourse_strings\n",
    "\n",
    "\n",
    "def get_non_discourse_df(train, essay, essay_id):        \n",
    "    non_discourse = pd.DataFrame(\n",
    "        [c for c in range(len(essay.split())) if c not in get_discourse_prediction_strings(train, essay_id)]\n",
    "    )\n",
    "\n",
    "    if non_discourse.empty:\n",
    "        df = pd.DataFrame(columns=train.columns)\n",
    "    else:\n",
    "        non_discourse_strings = get_non_discourse_strings(non_discourse)\n",
    "        df = pd.DataFrame(non_discourse_strings).rename(columns={0: \"predictionstring\"})\n",
    "        df[\"discourse_type\"] = \"None\"\n",
    "    \n",
    "    return df\n",
    "\n",
    "\n",
    "def get_colored_essay(train, essay_id):\n",
    "    essay = read_essay(essay_id)\n",
    "    all_text = \"\"\n",
    "    train_subset = train.query(\"id == @essay_id\").copy()\n",
    "    df = get_non_discourse_df(train, essay, essay_id)\n",
    "    train_subset = pd.concat([train_subset, df])\n",
    "    train_subset[\"first_index\"] = (\n",
    "        train_subset[\"predictionstring\"].str.split(\" \").str[0].astype(\"int\")\n",
    "    )\n",
    "    train_subset = train_subset.sort_values(\"first_index\").reset_index(drop=True).copy()\n",
    "    for i, d in train_subset.iterrows():\n",
    "        colored_text = text_to_color(essay, d.discourse_type, d.predictionstring)\n",
    "        all_text += \" \" + colored_text\n",
    "    return all_text[1:]"
   ]
  },
  {
   "cell_type": "code",
   "execution_count": 30,
   "id": "e5529d35",
   "metadata": {
    "_kg_hide-input": true,
    "execution": {
     "iopub.execute_input": "2021-12-27T22:07:27.996745Z",
     "iopub.status.busy": "2021-12-27T22:07:27.996094Z",
     "iopub.status.idle": "2021-12-27T22:07:30.288091Z",
     "shell.execute_reply": "2021-12-27T22:07:30.287123Z",
     "shell.execute_reply.started": "2021-12-26T09:01:11.971388Z"
    },
    "papermill": {
     "duration": 2.327545,
     "end_time": "2021-12-27T22:07:30.288238",
     "exception": false,
     "start_time": "2021-12-27T22:07:27.960693",
     "status": "completed"
    },
    "tags": []
   },
   "outputs": [],
   "source": [
    "train = pd.read_csv(Config.get_file_path(config_key=\"train\"))\n",
    "train[['discourse_id', 'discourse_start', 'discourse_end']] = train[['discourse_id', 'discourse_start', 'discourse_end']].astype(int)\n",
    "\n",
    "sample_submission = pd.read_csv(Config.get_file_path(config_key=\"sample_submission\"))\n",
    "\n",
    "#The glob module finds all the pathnames matching a specified pattern according to the rules used by the Unix shell\n",
    "train_txt = glob(Config.get_file_path(config_key=\"train_folder\") + \"/*.txt\") \n",
    "test_txt = glob(Config.get_file_path(config_key=\"test_folder\") + \"/*.txt\")"
   ]
  },
  {
   "cell_type": "markdown",
   "id": "f520faf8",
   "metadata": {
    "papermill": {
     "duration": 0.028882,
     "end_time": "2021-12-27T22:07:30.346664",
     "exception": false,
     "start_time": "2021-12-27T22:07:30.317782",
     "status": "completed"
    },
    "tags": []
   },
   "source": [
    "# Introduction to the competition\n",
    "\n",
    "Basically, we have a bunch of essays written by kids in the age range of about 12-18 years old in which we have to find word sequences that can be classified as one of 7 \"discourse types\". These are:\n",
    "\n",
    "- Lead - an introduction that begins with a statistic, a quotation, a description, or some other device to grab the reader’s attention and point toward the thesis\n",
    "- Position - an opinion or conclusion on the main question\n",
    "- Claim - a claim that supports the position\n",
    "- Counterclaim - a claim that refutes another claim or gives an opposing reason to the position\n",
    "- Rebuttal - a claim that refutes a counterclaim\n",
    "- Evidence - ideas or examples that support claims, counterclaims, or rebuttals.\n",
    "- Concluding Statement - a concluding statement that restates the claims\n",
    "\n",
    "Let's look at the full text of one essay first."
   ]
  },
  {
   "cell_type": "code",
   "execution_count": 38,
   "id": "e4c27734",
   "metadata": {},
   "outputs": [
    {
     "name": "stdout",
     "output_type": "stream",
     "text": [
      "- Essay index: 6316\n",
      "- Essay name: 6772FAB89BC6 \n",
      "\n",
      "Should the electoral college process be demolished? Many would say no way PROPER_NAME, but I strongly consider the electoral college process should be demolished. I believe this because I think the citizens of the U.S. should be able to vote for their favored presidential candidate directly. In reality, voters are not really voting for their presidential candidate, they are voting for a slate of voters. Below are my main reasons for why I am in favor of demolishing this electoral college\n",
      "\n",
      "First off, let's get something straight, citizens who regularly vote in the presidential election are not really voting for their desired presidential candidate. All fifty of the U.S. states are given a certain amount of electoral votes. As the electoral college is widely regarded as a anachronism, it's not fit for the present anymore. According to the third source,\n",
      "\n",
      "the electoral college is a non-democratic method of selecting a president that ought to be overruled by declaing that the candidate who recieves the most popular votes the winn\n",
      "\n",
      "er.\n",
      "\n",
      "There are five reasons why the electoral college has not been demolished yet,\n",
      "\n",
      "Certainty of outcome\n",
      "\n",
      "Everyone's President\n",
      "\n",
      "Swing States\n",
      "\n",
      "Big States\n",
      "\n",
      "Avoid Run-Off Elections\n",
      "\n",
      "these are the reasons ehy the electoral college has not been demolished even though it is highly resented in the U.S.A.\n",
      "\n",
      "In continuation, people who vote should be able to directly vote for who they are in favor of winnning the presidency. That basically means whoever's name was checked off on their voting card should have been their pick to win the election, not for another sllate of voters who do the voting for them, that's not having a voice. The electoral college method of selecting the president may turn of potential voters for a candidatr who has no hope of carrying their state. For example, Democrats in Texas, or Republicans in California. Knowing their vote will have no effect.\n",
      "\n",
      "In closing, I urge that the electoral college process should be outruled. Because people who don't support their state, their vote won't matter until this electoral college process is outruled. It is important that all Americans vote count in a election of any kind. They should be able to vote for whoever they want directly, not for electoral, but for the popular vote. Not to vote for a slate of voters who elect the president themselves. Now, again, should the electoral college process really be demolished?                                                                             "
     ]
    }
   ],
   "source": [
    "get_random_essay = True\n",
    "\n",
    "essay_index = randint(0,len(train_txt)-1) if get_random_essay else 6316\n",
    "essay_path = train_txt[essay_index]\n",
    "essay_id = os.path.basename(essay_path).rsplit(\".\",1)[0]\n",
    "\n",
    "print(f\"- Essay index: {essay_index}\")\n",
    "print(f\"- Essay name: {essay_id}\",\"\\n\")\n",
    "!cat $essay_path"
   ]
  },
  {
   "cell_type": "markdown",
   "id": "784839c5",
   "metadata": {
    "papermill": {
     "duration": 0.029351,
     "end_time": "2021-12-27T22:07:31.240664",
     "exception": false,
     "start_time": "2021-12-27T22:07:31.211313",
     "status": "completed"
    },
    "tags": []
   },
   "source": [
    "The train dataset gives us the following human annotations that are extracted from this essay."
   ]
  },
  {
   "cell_type": "code",
   "execution_count": 39,
   "id": "0e61a119",
   "metadata": {
    "execution": {
     "iopub.execute_input": "2021-12-27T22:07:31.305652Z",
     "iopub.status.busy": "2021-12-27T22:07:31.304648Z",
     "iopub.status.idle": "2021-12-27T22:07:31.346906Z",
     "shell.execute_reply": "2021-12-27T22:07:31.347410Z",
     "shell.execute_reply.started": "2021-12-26T09:01:15.339313Z"
    },
    "papermill": {
     "duration": 0.075666,
     "end_time": "2021-12-27T22:07:31.347609",
     "exception": false,
     "start_time": "2021-12-27T22:07:31.271943",
     "status": "completed"
    },
    "tags": []
   },
   "outputs": [
    {
     "data": {
      "text/html": [
       "<div>\n",
       "<style scoped>\n",
       "    .dataframe tbody tr th:only-of-type {\n",
       "        vertical-align: middle;\n",
       "    }\n",
       "\n",
       "    .dataframe tbody tr th {\n",
       "        vertical-align: top;\n",
       "    }\n",
       "\n",
       "    .dataframe thead th {\n",
       "        text-align: right;\n",
       "    }\n",
       "</style>\n",
       "<table border=\"1\" class=\"dataframe\">\n",
       "  <thead>\n",
       "    <tr style=\"text-align: right;\">\n",
       "      <th></th>\n",
       "      <th>id</th>\n",
       "      <th>discourse_id</th>\n",
       "      <th>discourse_start</th>\n",
       "      <th>discourse_end</th>\n",
       "      <th>discourse_text</th>\n",
       "      <th>discourse_type</th>\n",
       "      <th>discourse_type_num</th>\n",
       "      <th>predictionstring</th>\n",
       "    </tr>\n",
       "  </thead>\n",
       "  <tbody>\n",
       "    <tr>\n",
       "      <th>93803</th>\n",
       "      <td>6772FAB89BC6</td>\n",
       "      <td>1616017852273</td>\n",
       "      <td>0</td>\n",
       "      <td>87</td>\n",
       "      <td>Should the electoral college process be demoli...</td>\n",
       "      <td>Lead</td>\n",
       "      <td>Lead 1</td>\n",
       "      <td>0 1 2 3 4 5 6 7 8 9 10 11 12</td>\n",
       "    </tr>\n",
       "    <tr>\n",
       "      <th>93804</th>\n",
       "      <td>6772FAB89BC6</td>\n",
       "      <td>1616017860206</td>\n",
       "      <td>87</td>\n",
       "      <td>162</td>\n",
       "      <td>but I strongly consider the electoral college ...</td>\n",
       "      <td>Position</td>\n",
       "      <td>Position 1</td>\n",
       "      <td>13 14 15 16 17 18 19 20 21 22 23</td>\n",
       "    </tr>\n",
       "    <tr>\n",
       "      <th>93805</th>\n",
       "      <td>6772FAB89BC6</td>\n",
       "      <td>1616076818912</td>\n",
       "      <td>163</td>\n",
       "      <td>291</td>\n",
       "      <td>I believe this because I think the citizens of...</td>\n",
       "      <td>Claim</td>\n",
       "      <td>Claim 1</td>\n",
       "      <td>24 25 26 27 28 29 30 31 32 33 34 35 36 37 38 3...</td>\n",
       "    </tr>\n",
       "    <tr>\n",
       "      <th>93806</th>\n",
       "      <td>6772FAB89BC6</td>\n",
       "      <td>1616076828432</td>\n",
       "      <td>305</td>\n",
       "      <td>406</td>\n",
       "      <td>voters are not really voting for their preside...</td>\n",
       "      <td>Claim</td>\n",
       "      <td>Claim 2</td>\n",
       "      <td>48 49 50 51 52 53 54 55 56 57 58 59 60 61 62 6...</td>\n",
       "    </tr>\n",
       "    <tr>\n",
       "      <th>93807</th>\n",
       "      <td>6772FAB89BC6</td>\n",
       "      <td>1616017899398</td>\n",
       "      <td>494</td>\n",
       "      <td>655</td>\n",
       "      <td>First off, let's get something straight, citiz...</td>\n",
       "      <td>Claim</td>\n",
       "      <td>Claim 3</td>\n",
       "      <td>81 82 83 84 85 86 87 88 89 90 91 92 93 94 95 9...</td>\n",
       "    </tr>\n",
       "    <tr>\n",
       "      <th>93808</th>\n",
       "      <td>6772FAB89BC6</td>\n",
       "      <td>1616017928583</td>\n",
       "      <td>656</td>\n",
       "      <td>1046</td>\n",
       "      <td>All fifty of the U.S. states are given a certa...</td>\n",
       "      <td>Evidence</td>\n",
       "      <td>Evidence 1</td>\n",
       "      <td>104 105 106 107 108 109 110 111 112 113 114 11...</td>\n",
       "    </tr>\n",
       "    <tr>\n",
       "      <th>93809</th>\n",
       "      <td>6772FAB89BC6</td>\n",
       "      <td>1616076929340</td>\n",
       "      <td>1047</td>\n",
       "      <td>1220</td>\n",
       "      <td>There are five reasons why the electoral colle...</td>\n",
       "      <td>Counterclaim</td>\n",
       "      <td>Counterclaim 1</td>\n",
       "      <td>170 171 172 173 174 175 176 177 178 179 180 18...</td>\n",
       "    </tr>\n",
       "    <tr>\n",
       "      <th>93810</th>\n",
       "      <td>6772FAB89BC6</td>\n",
       "      <td>1616076939880</td>\n",
       "      <td>1221</td>\n",
       "      <td>1341</td>\n",
       "      <td>these are the reasons ehy the electoral colleg...</td>\n",
       "      <td>Evidence</td>\n",
       "      <td>Evidence 2</td>\n",
       "      <td>195 196 197 198 199 200 201 202 203 204 205 20...</td>\n",
       "    </tr>\n",
       "    <tr>\n",
       "      <th>93811</th>\n",
       "      <td>6772FAB89BC6</td>\n",
       "      <td>1616017964249</td>\n",
       "      <td>1342</td>\n",
       "      <td>1460</td>\n",
       "      <td>In continuation, people who vote should be abl...</td>\n",
       "      <td>Claim</td>\n",
       "      <td>Claim 4</td>\n",
       "      <td>216 217 218 219 220 221 222 223 224 225 226 22...</td>\n",
       "    </tr>\n",
       "    <tr>\n",
       "      <th>93812</th>\n",
       "      <td>6772FAB89BC6</td>\n",
       "      <td>1616017980676</td>\n",
       "      <td>1461</td>\n",
       "      <td>1916</td>\n",
       "      <td>That basically means whoever's name was checke...</td>\n",
       "      <td>Evidence</td>\n",
       "      <td>Evidence 3</td>\n",
       "      <td>237 238 239 240 241 242 243 244 245 246 247 24...</td>\n",
       "    </tr>\n",
       "    <tr>\n",
       "      <th>93813</th>\n",
       "      <td>6772FAB89BC6</td>\n",
       "      <td>1616018001450</td>\n",
       "      <td>1917</td>\n",
       "      <td>2469</td>\n",
       "      <td>In closing, I urge that the electoral college ...</td>\n",
       "      <td>Concluding Statement</td>\n",
       "      <td>Concluding Statement 1</td>\n",
       "      <td>315 316 317 318 319 320 321 322 323 324 325 32...</td>\n",
       "    </tr>\n",
       "  </tbody>\n",
       "</table>\n",
       "</div>"
      ],
      "text/plain": [
       "                 id   discourse_id  discourse_start  discourse_end  \\\n",
       "93803  6772FAB89BC6  1616017852273                0             87   \n",
       "93804  6772FAB89BC6  1616017860206               87            162   \n",
       "93805  6772FAB89BC6  1616076818912              163            291   \n",
       "93806  6772FAB89BC6  1616076828432              305            406   \n",
       "93807  6772FAB89BC6  1616017899398              494            655   \n",
       "93808  6772FAB89BC6  1616017928583              656           1046   \n",
       "93809  6772FAB89BC6  1616076929340             1047           1220   \n",
       "93810  6772FAB89BC6  1616076939880             1221           1341   \n",
       "93811  6772FAB89BC6  1616017964249             1342           1460   \n",
       "93812  6772FAB89BC6  1616017980676             1461           1916   \n",
       "93813  6772FAB89BC6  1616018001450             1917           2469   \n",
       "\n",
       "                                          discourse_text  \\\n",
       "93803  Should the electoral college process be demoli...   \n",
       "93804  but I strongly consider the electoral college ...   \n",
       "93805  I believe this because I think the citizens of...   \n",
       "93806  voters are not really voting for their preside...   \n",
       "93807  First off, let's get something straight, citiz...   \n",
       "93808  All fifty of the U.S. states are given a certa...   \n",
       "93809  There are five reasons why the electoral colle...   \n",
       "93810  these are the reasons ehy the electoral colleg...   \n",
       "93811  In continuation, people who vote should be abl...   \n",
       "93812  That basically means whoever's name was checke...   \n",
       "93813  In closing, I urge that the electoral college ...   \n",
       "\n",
       "             discourse_type      discourse_type_num  \\\n",
       "93803                  Lead                  Lead 1   \n",
       "93804              Position              Position 1   \n",
       "93805                 Claim                 Claim 1   \n",
       "93806                 Claim                 Claim 2   \n",
       "93807                 Claim                 Claim 3   \n",
       "93808              Evidence              Evidence 1   \n",
       "93809          Counterclaim          Counterclaim 1   \n",
       "93810              Evidence              Evidence 2   \n",
       "93811                 Claim                 Claim 4   \n",
       "93812              Evidence              Evidence 3   \n",
       "93813  Concluding Statement  Concluding Statement 1   \n",
       "\n",
       "                                        predictionstring  \n",
       "93803                       0 1 2 3 4 5 6 7 8 9 10 11 12  \n",
       "93804                   13 14 15 16 17 18 19 20 21 22 23  \n",
       "93805  24 25 26 27 28 29 30 31 32 33 34 35 36 37 38 3...  \n",
       "93806  48 49 50 51 52 53 54 55 56 57 58 59 60 61 62 6...  \n",
       "93807  81 82 83 84 85 86 87 88 89 90 91 92 93 94 95 9...  \n",
       "93808  104 105 106 107 108 109 110 111 112 113 114 11...  \n",
       "93809  170 171 172 173 174 175 176 177 178 179 180 18...  \n",
       "93810  195 196 197 198 199 200 201 202 203 204 205 20...  \n",
       "93811  216 217 218 219 220 221 222 223 224 225 226 22...  \n",
       "93812  237 238 239 240 241 242 243 244 245 246 247 24...  \n",
       "93813  315 316 317 318 319 320 321 322 323 324 325 32...  "
      ]
     },
     "execution_count": 39,
     "metadata": {},
     "output_type": "execute_result"
    }
   ],
   "source": [
    "train.query('id == @essay_id')"
   ]
  },
  {
   "cell_type": "markdown",
   "id": "71f92c92",
   "metadata": {
    "papermill": {
     "duration": 0.029475,
     "end_time": "2021-12-27T22:07:31.407414",
     "exception": false,
     "start_time": "2021-12-27T22:07:31.377939",
     "status": "completed"
    },
    "tags": []
   },
   "source": [
    "Kaggle provides the following field descriptions:\n",
    "\n",
    "- id - ID code for essay response\n",
    "- discourse_id - ID code for discourse element\n",
    "- discourse_start - character position where discourse element begins in the essay response\n",
    "- discourse_end - character position where discourse element ends in the essay response\n",
    "- discourse_text - text of discourse element\n",
    "- discourse_type - classification of discourse element\n",
    "- discourse_type_num - enumerated class label of discourse element\n",
    "- predictionstring - the word indices of the training sample, as required for predictions\n",
    "\n",
    "The Ground Truth here is a combination of the discourse type and the prediction string. The predictionstring corresponds to the index of the words in the essay and the predicted discourse type for this sequence of words should be correct. There can be partial matches, if the correct discourse type is predicted but on a longer or shorter sequence of words than specified in the Ground Truth.\n",
    "\n",
    "Not necessarily all text of an essay is part of a discourse. In some cases, a title is present which is not part of any discourse."
   ]
  },
  {
   "cell_type": "markdown",
   "id": "4a2adcee",
   "metadata": {
    "papermill": {
     "duration": 0.033166,
     "end_time": "2021-12-27T22:07:32.925313",
     "exception": false,
     "start_time": "2021-12-27T22:07:32.892147",
     "status": "completed"
    },
    "tags": []
   },
   "source": [
    "# discourse_type\n",
    "\n",
    "Is there a correlation between the length of a discourse and the class (discourse_type)? Yes, there is. Evidence is the longest discount type on average. When looking at the frequencies of occurence, we see that Counterclaim and Rebuttal are relatively rare"
   ]
  },
  {
   "cell_type": "code",
   "execution_count": 40,
   "id": "8172a561",
   "metadata": {},
   "outputs": [
    {
     "data": {
      "text/plain": [
       "Claim                   4\n",
       "Evidence                3\n",
       "Lead                    1\n",
       "Position                1\n",
       "Counterclaim            1\n",
       "Concluding Statement    1\n",
       "Name: discourse_type, dtype: int64"
      ]
     },
     "execution_count": 40,
     "metadata": {},
     "output_type": "execute_result"
    }
   ],
   "source": [
    "train.query('id == @essay_id')[\"discourse_type\"].value_counts()"
   ]
  },
  {
   "cell_type": "code",
   "execution_count": 41,
   "id": "08e386c2",
   "metadata": {},
   "outputs": [
    {
     "name": "stdout",
     "output_type": "stream",
     "text": [
      "\u001b[41;30mShould the electoral college process be demolished? Many would say no way PROPER_NAME,\u001b[m \u001b[42;30mbut I strongly consider the electoral college process should be demolished.\u001b[m \u001b[44;30mI believe this because I think the citizens of the U.S. should be able to vote for their favored presidential candidate directly.\u001b[m \u001b[49;30mIn reality,\u001b[m \u001b[44;30mvoters are not really voting for their presidential candidate, they are voting for a slate of voters.\u001b[m \u001b[49;30mBelow are my main reasons for why I am in favor of demolishing this electoral college\u001b[m \u001b[44;30mFirst off, let's get something straight, citizens who regularly vote in the presidential election are not really voting for their desired presidential candidate.\u001b[m \u001b[43;30mAll fifty of the U.S. states are given a certain amount of electoral votes. As the electoral college is widely regarded as a anachronism, it's not fit for the present anymore. According to the third source, the electoral college is a non-democratic method of selecting a president that ought to be overruled by declaing that the candidate who recieves the most popular votes the winn er.\u001b[m \u001b[46;30mThere are five reasons why the electoral college has not been demolished yet, Certainty of outcome Everyone's President Swing States Big States Avoid Run-Off Elections\u001b[m \u001b[43;30mthese are the reasons ehy the electoral college has not been demolished even though it is highly resented in the U.S.A.\u001b[m \u001b[44;30mIn continuation, people who vote should be able to directly vote for who they are in favor of winnning the presidency.\u001b[m \u001b[43;30mThat basically means whoever's name was checked off on their voting card should have been their pick to win the election, not for another sllate of voters who do the voting for them, that's not having a voice. The electoral college method of selecting the president may turn of potential voters for a candidatr who has no hope of carrying their state. For example, Democrats in Texas, or Republicans in California. Knowing their vote will have no effect.\u001b[m \u001b[45;30mIn closing, I urge that the electoral college process should be outruled. Because people who don't support their state, their vote won't matter until this electoral college process is outruled. It is important that all Americans vote count in a election of any kind. They should be able to vote for whoever they want directly, not for electoral, but for the popular vote. Not to vote for a slate of voters who elect the president themselves. Now, again, should the electoral college process really be demolished?\u001b[m\n"
     ]
    }
   ],
   "source": [
    "all_text = get_colored_essay(train, essay_id)\n",
    "print(all_text)"
   ]
  },
  {
   "cell_type": "markdown",
   "id": "78d43c68",
   "metadata": {},
   "source": [
    "## What Type of Annotations are Most Common\n",
    "- Are there trends to when and where annotations appear in the text?\n",
    "- What type of annotations are important?"
   ]
  },
  {
   "cell_type": "code",
   "execution_count": 43,
   "id": "0a191bd0",
   "metadata": {
    "_kg_hide-input": true,
    "execution": {
     "iopub.execute_input": "2021-12-27T22:07:33.003434Z",
     "iopub.status.busy": "2021-12-27T22:07:33.002455Z",
     "iopub.status.idle": "2021-12-27T22:07:33.541344Z",
     "shell.execute_reply": "2021-12-27T22:07:33.541871Z",
     "shell.execute_reply.started": "2021-12-26T09:01:16.485471Z"
    },
    "papermill": {
     "duration": 0.583845,
     "end_time": "2021-12-27T22:07:33.542048",
     "exception": false,
     "start_time": "2021-12-27T22:07:32.958203",
     "status": "completed"
    },
    "tags": []
   },
   "outputs": [
    {
     "data": {
      "image/png": "[encoded data removed]",
      "text/plain": [
       "<Figure size 720x360 with 1 Axes>"
      ]
     },
     "metadata": {
      "needs_background": "light"
     },
     "output_type": "display_data"
    }
   ],
   "source": [
    "def plot_discourse_label_frequency(train):\n",
    "    ax = (\n",
    "        train[\"discourse_type\"]\n",
    "        .value_counts(ascending=True)\n",
    "        .plot(kind=\"barh\", figsize=(10, 5), color=color_pal[1])\n",
    "    )\n",
    "    ax.set_title(\"Discourse Label Frequency (in train)\", fontsize=16)\n",
    "    ax.bar_label(ax.containers[0], label_type=\"edge\")\n",
    "    plt.show()\n",
    "\n",
    "plot_discourse_label_frequency(train)"
   ]
  },
  {
   "cell_type": "markdown",
   "id": "2b7eefda",
   "metadata": {},
   "source": [
    "Some things to note about this next plot.\n",
    "- The lead tends to start at the beginning of the document. Evidence ranges in the area it appears commonly in the document."
   ]
  },
  {
   "cell_type": "code",
   "execution_count": 44,
   "id": "a19c7116",
   "metadata": {},
   "outputs": [
    {
     "data": {
      "image/png": "[encoded data removed]",
      "text/plain": [
       "<Figure size 720x360 with 1 Axes>"
      ]
     },
     "metadata": {
      "needs_background": "light"
     },
     "output_type": "display_data"
    }
   ],
   "source": [
    "def plot_discourse_label_intervals(train):\n",
    "    ax = (\n",
    "        train.groupby(\"discourse_type\")[[\"discourse_start\", \"discourse_end\"]]\n",
    "        .mean()\n",
    "        .sort_values(\"discourse_start\")\n",
    "        .plot(\n",
    "            kind=\"barh\",\n",
    "            figsize=(10, 5),\n",
    "        )\n",
    "    )\n",
    "    ax.set_title(\"Average Discourse Label Start and End\", fontsize=16)\n",
    "    plt.show()\n",
    "\n",
    "plot_discourse_label_intervals(train)"
   ]
  },
  {
   "cell_type": "code",
   "execution_count": 46,
   "id": "6e3d7898",
   "metadata": {},
   "outputs": [
    {
     "data": {
      "image/png": "[encoded data removed]",
      "text/plain": [
       "<Figure size 864x360 with 1 Axes>"
      ]
     },
     "metadata": {
      "needs_background": "light"
     },
     "output_type": "display_data"
    }
   ],
   "source": [
    "def plot_discourse_label_length(train):\n",
    "    # The length of each label\n",
    "    train[\"discourse_len\"] = (train[\"discourse_end\"] - train[\"discourse_start\"]).astype(\n",
    "        \"int\"\n",
    "    )\n",
    "    plot_order  = train.groupby('discourse_type')['discourse_len'].mean().sort_values(ascending=False).index.values\n",
    "\n",
    "    fig, ax = plt.subplots(figsize=(12, 5))\n",
    "    sns.barplot(x=\"discourse_type\", y=\"discourse_len\", data=train, order=plot_order)\n",
    "    ax.set_title(\"The Average Lenth of each Discourse\")\n",
    "    ax.set_xlabel(\"Discourse Type\")\n",
    "    ax.set_ylabel(\"Average Text Length\")\n",
    "    plt.show()\n",
    "\n",
    "plot_discourse_label_length(train)"
   ]
  },
  {
   "cell_type": "markdown",
   "id": "53ed1e4f",
   "metadata": {
    "papermill": {
     "duration": 0.03413,
     "end_time": "2021-12-27T22:07:33.610758",
     "exception": false,
     "start_time": "2021-12-27T22:07:33.576628",
     "status": "completed"
    },
    "tags": []
   },
   "source": [
    "Discourse type num:\n",
    "- Almost 15% contain no Concluding Statement\n",
    "- 40% don't have a Lead \n",
    "- Majority of essays have:\n",
    "    - 1 Position\n",
    "    - 1 Concluding Statement\n",
    "    - up to 3 Evidences and Claims\n",
    "    - 1 Lead"
   ]
  },
  {
   "cell_type": "code",
   "execution_count": 51,
   "id": "826efd2d",
   "metadata": {
    "_kg_hide-input": true,
    "execution": {
     "iopub.execute_input": "2021-12-27T22:07:33.720247Z",
     "iopub.status.busy": "2021-12-27T22:07:33.719277Z",
     "iopub.status.idle": "2021-12-27T22:07:34.116654Z",
     "shell.execute_reply": "2021-12-27T22:07:34.116117Z",
     "shell.execute_reply.started": "2021-12-26T09:01:17.132721Z"
    },
    "papermill": {
     "duration": 0.471789,
     "end_time": "2021-12-27T22:07:34.116804",
     "exception": false,
     "start_time": "2021-12-27T22:07:33.645015",
     "status": "completed"
    },
    "tags": []
   },
   "outputs": [
    {
     "data": {
      "image/png": "[encoded data removed]",
      "text/plain": [
       "<Figure size 864x576 with 1 Axes>"
      ]
     },
     "metadata": {
      "needs_background": "light"
     },
     "output_type": "display_data"
    }
   ],
   "source": [
    "def plot_discourse_type_num_frequency(train, threshold=0.03):\n",
    "    av_per_essay = train['discourse_type_num'].value_counts(ascending = True).rename_axis('discourse_type_num').reset_index(name='count')\n",
    "    av_per_essay['perc'] = round((av_per_essay['count'] / train.id.nunique()),3)\n",
    "    av_per_essay = av_per_essay.set_index('discourse_type_num')\n",
    "    \n",
    "    fig = plt.figure(figsize=(12,8))\n",
    "    ax = av_per_essay.query('perc > @threshold')['perc'].plot(kind=\"barh\")\n",
    "    ax.set_title(\"discourse_type_num: Percent present in essays\", fontsize=20, fontweight = 'bold')\n",
    "    ax.bar_label(ax.containers[0], label_type=\"edge\")\n",
    "    ax.set_xlabel(\"Percent\")\n",
    "    ax.set_ylabel(\"\")\n",
    "    plt.show()\n",
    "\n",
    "plot_discourse_type_num_frequency(train, threshold=0.005)"
   ]
  },
  {
   "cell_type": "markdown",
   "id": "d0902c63",
   "metadata": {
    "papermill": {
     "duration": 0.03618,
     "end_time": "2021-12-27T22:07:34.189917",
     "exception": false,
     "start_time": "2021-12-27T22:07:34.153737",
     "status": "completed"
    },
    "tags": []
   },
   "source": [
    "However, I am also interested in the relative positions of discourse types with the essays. Therefore, I am adding this number in the loop below. I think the main takeaway is that the Lead (if it's there!) is almost always the first discourse in an essay.\n",
    "\n",
    "**More on this in the next version.**"
   ]
  },
  {
   "cell_type": "code",
   "execution_count": 56,
   "id": "644b0297",
   "metadata": {
    "execution": {
     "iopub.execute_input": "2021-12-27T22:07:34.270686Z",
     "iopub.status.busy": "2021-12-27T22:07:34.269715Z",
     "iopub.status.idle": "2021-12-27T22:09:07.518736Z",
     "shell.execute_reply": "2021-12-27T22:09:07.518183Z",
     "shell.execute_reply.started": "2021-12-26T09:02:51.30792Z"
    },
    "papermill": {
     "duration": 93.292535,
     "end_time": "2021-12-27T22:09:07.518882",
     "exception": false,
     "start_time": "2021-12-27T22:07:34.226347",
     "status": "completed"
    },
    "tags": []
   },
   "outputs": [
    {
     "data": {
      "text/plain": [
       "discourse_type\n",
       "Lead                    1.004514\n",
       "Position                2.201116\n",
       "Claim                   5.163480\n",
       "Evidence                6.627478\n",
       "Counterclaim            7.304968\n",
       "Rebuttal                8.684344\n",
       "Concluding Statement    9.644650\n",
       "Name: discourse_nr, dtype: float64"
      ]
     },
     "execution_count": 56,
     "metadata": {},
     "output_type": "execute_result"
    }
   ],
   "source": [
    "train['discourse_nr'] = 1\n",
    "counter = 1\n",
    "\n",
    "for i in range(1, len(train)):\n",
    "    if train.loc[i, 'id'] == train.loc[i-1, 'id']:\n",
    "        counter += 1\n",
    "    else:\n",
    "        counter = 1\n",
    "    train.loc[i, 'discourse_nr'] = counter\n",
    "        \n",
    "av_position = train.groupby('discourse_type')['discourse_nr'].mean().sort_values()\n",
    "av_position"
   ]
  },
  {
   "cell_type": "markdown",
   "id": "5256c5e1",
   "metadata": {},
   "source": [
    "# discourse_text and predictionstring\n",
    "Below is a check to validate if the discourse_text and the predictionstring always have the same number of words (as they should)."
   ]
  },
  {
   "cell_type": "code",
   "execution_count": 57,
   "id": "d7bf87d5",
   "metadata": {
    "execution": {
     "iopub.execute_input": "2021-12-27T22:07:31.473231Z",
     "iopub.status.busy": "2021-12-27T22:07:31.472587Z",
     "iopub.status.idle": "2021-12-27T22:07:32.414923Z",
     "shell.execute_reply": "2021-12-27T22:07:32.415410Z",
     "shell.execute_reply.started": "2021-12-26T09:01:15.393981Z"
    },
    "papermill": {
     "duration": 0.978456,
     "end_time": "2021-12-27T22:07:32.415590",
     "exception": false,
     "start_time": "2021-12-27T22:07:31.437134",
     "status": "completed"
    },
    "tags": []
   },
   "outputs": [
    {
     "data": {
      "text/html": [
       "<div>\n",
       "<style scoped>\n",
       "    .dataframe tbody tr th:only-of-type {\n",
       "        vertical-align: middle;\n",
       "    }\n",
       "\n",
       "    .dataframe tbody tr th {\n",
       "        vertical-align: top;\n",
       "    }\n",
       "\n",
       "    .dataframe thead th {\n",
       "        text-align: right;\n",
       "    }\n",
       "</style>\n",
       "<table border=\"1\" class=\"dataframe\">\n",
       "  <thead>\n",
       "    <tr style=\"text-align: right;\">\n",
       "      <th></th>\n",
       "      <th>discourse_id</th>\n",
       "      <th>discourse_text</th>\n",
       "      <th>discourse_type</th>\n",
       "      <th>predictionstring</th>\n",
       "      <th>discourse_len</th>\n",
       "      <th>pred_len</th>\n",
       "    </tr>\n",
       "  </thead>\n",
       "  <tbody>\n",
       "    <tr>\n",
       "      <th>0</th>\n",
       "      <td>1622627660524</td>\n",
       "      <td>Modern humans today are always on their phone....</td>\n",
       "      <td>Lead</td>\n",
       "      <td>1 2 3 4 5 6 7 8 9 10 11 12 13 14 15 16 17 18 1...</td>\n",
       "      <td>44</td>\n",
       "      <td>44</td>\n",
       "    </tr>\n",
       "    <tr>\n",
       "      <th>1</th>\n",
       "      <td>1622627653021</td>\n",
       "      <td>They are some really bad consequences when stu...</td>\n",
       "      <td>Position</td>\n",
       "      <td>45 46 47 48 49 50 51 52 53 54 55 56 57 58 59</td>\n",
       "      <td>15</td>\n",
       "      <td>15</td>\n",
       "    </tr>\n",
       "    <tr>\n",
       "      <th>2</th>\n",
       "      <td>1622627671020</td>\n",
       "      <td>Some certain areas in the United States ban ph...</td>\n",
       "      <td>Evidence</td>\n",
       "      <td>60 61 62 63 64 65 66 67 68 69 70 71 72 73 74 75</td>\n",
       "      <td>16</td>\n",
       "      <td>16</td>\n",
       "    </tr>\n",
       "    <tr>\n",
       "      <th>3</th>\n",
       "      <td>1622627696365</td>\n",
       "      <td>When people have phones, they know about certa...</td>\n",
       "      <td>Evidence</td>\n",
       "      <td>76 77 78 79 80 81 82 83 84 85 86 87 88 89 90 9...</td>\n",
       "      <td>63</td>\n",
       "      <td>63</td>\n",
       "    </tr>\n",
       "    <tr>\n",
       "      <th>4</th>\n",
       "      <td>1622627759780</td>\n",
       "      <td>Driving is one of the way how to get around. P...</td>\n",
       "      <td>Claim</td>\n",
       "      <td>139 140 141 142 143 144 145 146 147 148 149 15...</td>\n",
       "      <td>24</td>\n",
       "      <td>24</td>\n",
       "    </tr>\n",
       "  </tbody>\n",
       "</table>\n",
       "</div>"
      ],
      "text/plain": [
       "    discourse_id                                     discourse_text  \\\n",
       "0  1622627660524  Modern humans today are always on their phone....   \n",
       "1  1622627653021  They are some really bad consequences when stu...   \n",
       "2  1622627671020  Some certain areas in the United States ban ph...   \n",
       "3  1622627696365  When people have phones, they know about certa...   \n",
       "4  1622627759780  Driving is one of the way how to get around. P...   \n",
       "\n",
       "  discourse_type                                   predictionstring  \\\n",
       "0           Lead  1 2 3 4 5 6 7 8 9 10 11 12 13 14 15 16 17 18 1...   \n",
       "1       Position       45 46 47 48 49 50 51 52 53 54 55 56 57 58 59   \n",
       "2       Evidence    60 61 62 63 64 65 66 67 68 69 70 71 72 73 74 75   \n",
       "3       Evidence  76 77 78 79 80 81 82 83 84 85 86 87 88 89 90 9...   \n",
       "4          Claim  139 140 141 142 143 144 145 146 147 148 149 15...   \n",
       "\n",
       "   discourse_len  pred_len  \n",
       "0             44        44  \n",
       "1             15        15  \n",
       "2             16        16  \n",
       "3             63        63  \n",
       "4             24        24  "
      ]
     },
     "execution_count": 57,
     "metadata": {},
     "output_type": "execute_result"
    }
   ],
   "source": [
    "#add columns\n",
    "train[\"discourse_len\"] = train[\"discourse_text\"].apply(lambda x: len(x.split()))\n",
    "train[\"pred_len\"] = train[\"predictionstring\"].apply(lambda x: len(x.split()))\n",
    "\n",
    "cols_to_display = ['discourse_id', 'discourse_text', 'discourse_type','predictionstring', 'discourse_len', 'pred_len']\n",
    "train[cols_to_display].head()"
   ]
  },
  {
   "cell_type": "markdown",
   "id": "08760d14",
   "metadata": {
    "papermill": {
     "duration": 0.030621,
     "end_time": "2021-12-27T22:07:32.477005",
     "exception": false,
     "start_time": "2021-12-27T22:07:32.446384",
     "status": "completed"
    },
    "tags": []
   },
   "source": [
    "There are 468 discourses where this goes wrong (by one word)"
   ]
  },
  {
   "cell_type": "code",
   "execution_count": 44,
   "id": "131c4bec",
   "metadata": {
    "execution": {
     "iopub.execute_input": "2021-12-27T22:07:32.542846Z",
     "iopub.status.busy": "2021-12-27T22:07:32.540507Z",
     "iopub.status.idle": "2021-12-27T22:07:32.562037Z",
     "shell.execute_reply": "2021-12-27T22:07:32.562630Z",
     "shell.execute_reply.started": "2021-12-26T09:01:16.396193Z"
    },
    "papermill": {
     "duration": 0.055161,
     "end_time": "2021-12-27T22:07:32.562794",
     "exception": false,
     "start_time": "2021-12-27T22:07:32.507633",
     "status": "completed"
    },
    "tags": []
   },
   "outputs": [
    {
     "name": "stdout",
     "output_type": "stream",
     "text": [
      "- The total number of discourses is 144293\n",
      "- The total number of discourses where discourse lenght does not equal prediction string length is 468\n"
     ]
    },
    {
     "data": {
      "text/html": [
       "<div>\n",
       "<style scoped>\n",
       "    .dataframe tbody tr th:only-of-type {\n",
       "        vertical-align: middle;\n",
       "    }\n",
       "\n",
       "    .dataframe tbody tr th {\n",
       "        vertical-align: top;\n",
       "    }\n",
       "\n",
       "    .dataframe thead th {\n",
       "        text-align: right;\n",
       "    }\n",
       "</style>\n",
       "<table border=\"1\" class=\"dataframe\">\n",
       "  <thead>\n",
       "    <tr style=\"text-align: right;\">\n",
       "      <th></th>\n",
       "      <th>discourse_id</th>\n",
       "      <th>discourse_text</th>\n",
       "      <th>discourse_type</th>\n",
       "      <th>predictionstring</th>\n",
       "      <th>discourse_len</th>\n",
       "      <th>pred_len</th>\n",
       "    </tr>\n",
       "  </thead>\n",
       "  <tbody>\n",
       "    <tr>\n",
       "      <th>107</th>\n",
       "      <td>1622473475289</td>\n",
       "      <td>if we would just make stricker laws for phone ...</td>\n",
       "      <td>Concluding Statement</td>\n",
       "      <td>303 304 305 306 307 308 309 310 311 312 313 31...</td>\n",
       "      <td>19</td>\n",
       "      <td>18</td>\n",
       "    </tr>\n",
       "    <tr>\n",
       "      <th>1025</th>\n",
       "      <td>1622564912260</td>\n",
       "      <td>for navigation to wherever they are going</td>\n",
       "      <td>Claim</td>\n",
       "      <td>105 106 107 108 109 110 111 112</td>\n",
       "      <td>7</td>\n",
       "      <td>8</td>\n",
       "    </tr>\n",
       "    <tr>\n",
       "      <th>1525</th>\n",
       "      <td>1622992466917</td>\n",
       "      <td>People should not be able to use cell phones w...</td>\n",
       "      <td>Position</td>\n",
       "      <td>22 23 24 25 26 27 28 29 30 31 32 33 34 35 36 3...</td>\n",
       "      <td>47</td>\n",
       "      <td>48</td>\n",
       "    </tr>\n",
       "    <tr>\n",
       "      <th>1526</th>\n",
       "      <td>1622992280991</td>\n",
       "      <td>First, cell phones are a benefit and allows ev...</td>\n",
       "      <td>Claim</td>\n",
       "      <td>69 70 71 72 73 74 75 76 77 78 79 80 81 82 83 8...</td>\n",
       "      <td>21</td>\n",
       "      <td>22</td>\n",
       "    </tr>\n",
       "    <tr>\n",
       "      <th>1527</th>\n",
       "      <td>1622992426147</td>\n",
       "      <td>Kids, teenagers, adults, even grandparents hav...</td>\n",
       "      <td>Evidence</td>\n",
       "      <td>90 91 92 93 94 95 96 97 98 99 100 101 102 103 ...</td>\n",
       "      <td>78</td>\n",
       "      <td>79</td>\n",
       "    </tr>\n",
       "    <tr>\n",
       "      <th>...</th>\n",
       "      <td>...</td>\n",
       "      <td>...</td>\n",
       "      <td>...</td>\n",
       "      <td>...</td>\n",
       "      <td>...</td>\n",
       "      <td>...</td>\n",
       "    </tr>\n",
       "    <tr>\n",
       "      <th>142607</th>\n",
       "      <td>1617826841342</td>\n",
       "      <td>seeking people's opinions on making a choice i...</td>\n",
       "      <td>Concluding Statement</td>\n",
       "      <td>563 564 565 566 567 568 569 570 571 572 573 57...</td>\n",
       "      <td>51</td>\n",
       "      <td>50</td>\n",
       "    </tr>\n",
       "    <tr>\n",
       "      <th>143191</th>\n",
       "      <td>1617887956153</td>\n",
       "      <td>i feel like for the bst advice ask more then o...</td>\n",
       "      <td>Evidence</td>\n",
       "      <td>185 186 187 188 189 190 191 192 193 194 195 19...</td>\n",
       "      <td>83</td>\n",
       "      <td>82</td>\n",
       "    </tr>\n",
       "    <tr>\n",
       "      <th>143227</th>\n",
       "      <td>1617652582742</td>\n",
       "      <td>, asking for advice from multiple people will ...</td>\n",
       "      <td>Concluding Statement</td>\n",
       "      <td>467 468 469 470 471 472 473 474 475 476 477 47...</td>\n",
       "      <td>84</td>\n",
       "      <td>83</td>\n",
       "    </tr>\n",
       "    <tr>\n",
       "      <th>143311</th>\n",
       "      <td>1618286838241</td>\n",
       "      <td>Seeking multiple opinions can help make a bett...</td>\n",
       "      <td>Claim</td>\n",
       "      <td>159 160 161 162 163 164 165 166 167 168 169 17...</td>\n",
       "      <td>15</td>\n",
       "      <td>16</td>\n",
       "    </tr>\n",
       "    <tr>\n",
       "      <th>143843</th>\n",
       "      <td>1617811065126</td>\n",
       "      <td>Asking for advice is a way of getting through ...</td>\n",
       "      <td>Claim</td>\n",
       "      <td>3 4 5 6 7 8 9 10 11 12 13 14 15 16 17 18 19 20...</td>\n",
       "      <td>21</td>\n",
       "      <td>22</td>\n",
       "    </tr>\n",
       "  </tbody>\n",
       "</table>\n",
       "<p>468 rows × 6 columns</p>\n",
       "</div>"
      ],
      "text/plain": [
       "         discourse_id                                     discourse_text  \\\n",
       "107     1622473475289  if we would just make stricker laws for phone ...   \n",
       "1025    1622564912260        for navigation to wherever they are going     \n",
       "1525    1622992466917  People should not be able to use cell phones w...   \n",
       "1526    1622992280991  First, cell phones are a benefit and allows ev...   \n",
       "1527    1622992426147  Kids, teenagers, adults, even grandparents hav...   \n",
       "...               ...                                                ...   \n",
       "142607  1617826841342  seeking people's opinions on making a choice i...   \n",
       "143191  1617887956153  i feel like for the bst advice ask more then o...   \n",
       "143227  1617652582742  , asking for advice from multiple people will ...   \n",
       "143311  1618286838241  Seeking multiple opinions can help make a bett...   \n",
       "143843  1617811065126  Asking for advice is a way of getting through ...   \n",
       "\n",
       "              discourse_type  \\\n",
       "107     Concluding Statement   \n",
       "1025                   Claim   \n",
       "1525                Position   \n",
       "1526                   Claim   \n",
       "1527                Evidence   \n",
       "...                      ...   \n",
       "142607  Concluding Statement   \n",
       "143191              Evidence   \n",
       "143227  Concluding Statement   \n",
       "143311                 Claim   \n",
       "143843                 Claim   \n",
       "\n",
       "                                         predictionstring  discourse_len  \\\n",
       "107     303 304 305 306 307 308 309 310 311 312 313 31...             19   \n",
       "1025                      105 106 107 108 109 110 111 112              7   \n",
       "1525    22 23 24 25 26 27 28 29 30 31 32 33 34 35 36 3...             47   \n",
       "1526    69 70 71 72 73 74 75 76 77 78 79 80 81 82 83 8...             21   \n",
       "1527    90 91 92 93 94 95 96 97 98 99 100 101 102 103 ...             78   \n",
       "...                                                   ...            ...   \n",
       "142607  563 564 565 566 567 568 569 570 571 572 573 57...             51   \n",
       "143191  185 186 187 188 189 190 191 192 193 194 195 19...             83   \n",
       "143227  467 468 469 470 471 472 473 474 475 476 477 47...             84   \n",
       "143311  159 160 161 162 163 164 165 166 167 168 169 17...             15   \n",
       "143843  3 4 5 6 7 8 9 10 11 12 13 14 15 16 17 18 19 20...             21   \n",
       "\n",
       "        pred_len  \n",
       "107           18  \n",
       "1025           8  \n",
       "1525          48  \n",
       "1526          22  \n",
       "1527          79  \n",
       "...          ...  \n",
       "142607        50  \n",
       "143191        82  \n",
       "143227        83  \n",
       "143311        16  \n",
       "143843        22  \n",
       "\n",
       "[468 rows x 6 columns]"
      ]
     },
     "execution_count": 44,
     "metadata": {},
     "output_type": "execute_result"
    }
   ],
   "source": [
    "print(f\"- The total number of discourses is {len(train)}\")\n",
    "\n",
    "discourse_len_not_equal_to_pred_len = train.query('discourse_len != pred_len')\n",
    "print(f\"- The total number of discourses where discourse lenght does not equal prediction string length is {len(discourse_len_not_equal_to_pred_len)}\")\n",
    "discourse_len_not_equal_to_pred_len[cols_to_display]"
   ]
  },
  {
   "cell_type": "markdown",
   "id": "85a0e6d8",
   "metadata": {
    "papermill": {
     "duration": 0.031867,
     "end_time": "2021-12-27T22:07:32.626676",
     "exception": false,
     "start_time": "2021-12-27T22:07:32.594809",
     "status": "completed"
    },
    "tags": []
   },
   "source": [
    "Let's check the first one."
   ]
  },
  {
   "cell_type": "code",
   "execution_count": 57,
   "id": "9542fd10",
   "metadata": {
    "execution": {
     "iopub.execute_input": "2021-12-27T22:07:32.693228Z",
     "iopub.status.busy": "2021-12-27T22:07:32.692596Z",
     "iopub.status.idle": "2021-12-27T22:07:32.710825Z",
     "shell.execute_reply": "2021-12-27T22:07:32.711365Z",
     "shell.execute_reply.started": "2021-12-26T09:01:16.432186Z"
    },
    "papermill": {
     "duration": 0.05295,
     "end_time": "2021-12-27T22:07:32.711555",
     "exception": false,
     "start_time": "2021-12-27T22:07:32.658605",
     "status": "completed"
    },
    "tags": []
   },
   "outputs": [],
   "source": [
    "discourse_id_sample = discourse_len_not_equal_to_pred_len.iloc[0][\"discourse_id\"]\n",
    "train_sample = train.query('discourse_id == @discourse_id_sample') "
   ]
  },
  {
   "cell_type": "code",
   "execution_count": 58,
   "id": "7d8a0f73",
   "metadata": {},
   "outputs": [
    {
     "name": "stdout",
     "output_type": "stream",
     "text": [
      "if we would just make stricker laws for phone an driving the people would stop because of the consequences.      \n",
      "['if', 'we', 'would', 'just', 'make', 'stricker', 'laws', 'for', 'phone', 'an', 'driving', 'the', 'people', 'would', 'stop', 'because', 'of', 'the', 'consequences.']\n",
      "19\n"
     ]
    }
   ],
   "source": [
    "print(train_sample['discourse_text'].values[0])\n",
    "print(train_sample['discourse_text'].values[0].split())\n",
    "print(len(train_sample['discourse_text'].values[0].split()))"
   ]
  },
  {
   "cell_type": "code",
   "execution_count": 59,
   "id": "ea6febba",
   "metadata": {
    "execution": {
     "iopub.execute_input": "2021-12-27T22:07:32.845863Z",
     "iopub.status.busy": "2021-12-27T22:07:32.842937Z",
     "iopub.status.idle": "2021-12-27T22:07:32.859029Z",
     "shell.execute_reply": "2021-12-27T22:07:32.859707Z",
     "shell.execute_reply.started": "2021-12-26T09:01:16.45817Z"
    },
    "papermill": {
     "duration": 0.052575,
     "end_time": "2021-12-27T22:07:32.859888",
     "exception": false,
     "start_time": "2021-12-27T22:07:32.807313",
     "status": "completed"
    },
    "tags": []
   },
   "outputs": [
    {
     "name": "stdout",
     "output_type": "stream",
     "text": [
      "303 304 305 306 307 308 309 310 311 312 313 314 315 316 317 318 319 320\n",
      "['303', '304', '305', '306', '307', '308', '309', '310', '311', '312', '313', '314', '315', '316', '317', '318', '319', '320']\n",
      "18\n"
     ]
    }
   ],
   "source": [
    "print(train_sample['predictionstring'].values[0])\n",
    "print(train_sample['predictionstring'].values[0].split())\n",
    "print(len(train_sample['predictionstring'].values[0].split()))"
   ]
  },
  {
   "cell_type": "markdown",
   "id": "9e66dc62",
   "metadata": {
    "papermill": {
     "duration": 0.031756,
     "end_time": "2021-12-27T22:07:32.775362",
     "exception": false,
     "start_time": "2021-12-27T22:07:32.743606",
     "status": "completed"
    },
    "tags": []
   },
   "source": [
    "The length of 19 words seems correct and the length of the predictionstring also really seems to be 18. Something to keep in mind."
   ]
  },
  {
   "cell_type": "markdown",
   "id": "81426036",
   "metadata": {
    "papermill": {
     "duration": 0.036507,
     "end_time": "2021-12-27T22:09:07.592184",
     "exception": false,
     "start_time": "2021-12-27T22:09:07.555677",
     "status": "completed"
    },
    "tags": []
   },
   "source": [
    "# Investigation the gaps between Annotations (text not used as discourse_text)"
   ]
  },
  {
   "cell_type": "markdown",
   "id": "bc757851",
   "metadata": {
    "papermill": {
     "duration": 0.037099,
     "end_time": "2021-12-27T22:09:07.666166",
     "exception": false,
     "start_time": "2021-12-27T22:09:07.629067",
     "status": "completed"
    },
    "tags": []
   },
   "source": [
    "Just taking the last discourse_end in train is not entirely correct as a last piece of text may not have been used as a discourse."
   ]
  },
  {
   "cell_type": "code",
   "execution_count": 59,
   "id": "bb5bdddf",
   "metadata": {
    "execution": {
     "iopub.execute_input": "2021-12-27T22:09:07.753699Z",
     "iopub.status.busy": "2021-12-27T22:09:07.752634Z",
     "iopub.status.idle": "2021-12-27T22:09:54.008566Z",
     "shell.execute_reply": "2021-12-27T22:09:54.009052Z",
     "shell.execute_reply.started": "2021-12-26T09:01:17.615777Z"
    },
    "papermill": {
     "duration": 46.305873,
     "end_time": "2021-12-27T22:09:54.009247",
     "exception": false,
     "start_time": "2021-12-27T22:09:07.703374",
     "status": "completed"
    },
    "tags": []
   },
   "outputs": [],
   "source": [
    "len_dict = {}\n",
    "word_dict = {}\n",
    "for t in train_txt:\n",
    "    with open(t, \"r\") as txt_file:\n",
    "        myid = t.split(\"/\")[-1].replace(\".txt\", \"\")\n",
    "        data = txt_file.read()\n",
    "        mylen = len(data.strip())\n",
    "        myword = len(data.split())\n",
    "        len_dict[myid] = mylen\n",
    "        word_dict[myid] = myword\n",
    "train[\"essay_len\"] = train[\"id\"].map(len_dict)\n",
    "train[\"essay_words\"] = train[\"id\"].map(word_dict)"
   ]
  },
  {
   "cell_type": "code",
   "execution_count": null,
   "id": "f8399d1a",
   "metadata": {},
   "outputs": [],
   "source": [
    "fig, ax = plt.subplots(figsize=(10, 10))\n",
    "train.groupby(\"id\").first().plot(\n",
    "    x=\"essay_len\", y=\"essay_words\", kind=\"scatter\", color=color_pal[3], ax=ax\n",
    ")\n",
    "ax.set_title(\"Word vs Character Length per Essay\", fontsize=16)\n",
    "plt.show()"
   ]
  },
  {
   "cell_type": "markdown",
   "id": "ce5cf223",
   "metadata": {
    "papermill": {
     "duration": 0.037606,
     "end_time": "2021-12-27T22:09:54.084510",
     "exception": false,
     "start_time": "2021-12-27T22:09:54.046904",
     "status": "completed"
    },
    "tags": []
   },
   "source": [
    "When comparing the discourse_end of the last discourse in each essay, we see that the discourse_end is sometimes larger than the essay_len. This cannot be right, but I will assume that those are last pieces of text in the essay indeed."
   ]
  },
  {
   "cell_type": "code",
   "execution_count": null,
   "id": "03f8a366",
   "metadata": {
    "execution": {
     "iopub.execute_input": "2021-12-27T22:09:54.171056Z",
     "iopub.status.busy": "2021-12-27T22:09:54.170369Z",
     "iopub.status.idle": "2021-12-27T22:10:26.276378Z",
     "shell.execute_reply": "2021-12-27T22:10:26.275836Z",
     "shell.execute_reply.started": "2021-12-26T09:02:10.849896Z"
    },
    "papermill": {
     "duration": 32.153914,
     "end_time": "2021-12-27T22:10:26.276548",
     "exception": false,
     "start_time": "2021-12-27T22:09:54.122634",
     "status": "completed"
    },
    "tags": []
   },
   "outputs": [
    {
     "data": {
      "application/vnd.jupyter.widget-view+json": {
       "model_id": "a05f75843b8d4b3cb040833e49870b5f",
       "version_major": 2,
       "version_minor": 0
      },
      "text/plain": [
       "  0%|          | 0/144292 [00:00<?, ?it/s]"
      ]
     },
     "metadata": {},
     "output_type": "display_data"
    }
   ],
   "source": [
    "#initialize column\n",
    "train['gap_length'] = np.nan\n",
    "\n",
    "#set the first one\n",
    "train.loc[0, 'gap_length'] = 7 #discourse start - 1 (previous end is always -1)\n",
    "\n",
    "#loop over rest\n",
    "for i in tqdm(range(1, len(train))):\n",
    "    #gap if difference is not 1 within an essay\n",
    "    if ((train.loc[i, \"id\"] == train.loc[i-1, \"id\"])\\\n",
    "        and (train.loc[i, \"discourse_start\"] - train.loc[i-1, \"discourse_end\"] > 1)):\n",
    "        train.loc[i, 'gap_length'] = train.loc[i, \"discourse_start\"] - train.loc[i-1, \"discourse_end\"] - 2\n",
    "        #minus 2 as the previous end is always -1 and the previous start always +1\n",
    "    #gap if the first discourse of an new essay does not start at 0\n",
    "    elif ((train.loc[i, \"id\"] != train.loc[i-1, \"id\"])\\\n",
    "        and (train.loc[i, \"discourse_start\"] != 0)):\n",
    "        train.loc[i, 'gap_length'] = train.loc[i, \"discourse_start\"] -1\n",
    "\n",
    "\n",
    " #is there any text after the last discourse of an essay?\n",
    "last_ones = train.drop_duplicates(subset=\"id\", keep='last')\n",
    "last_ones['gap_end_length'] = np.where((last_ones.discourse_end < last_ones.essay_len),\\\n",
    "                                       (last_ones.essay_len - last_ones.discourse_end),\\\n",
    "                                       np.nan)\n",
    "\n",
    "cols_to_merge = ['id', 'discourse_id', 'gap_end_length']\n",
    "train = train.merge(last_ones[cols_to_merge], on = [\"id\", \"discourse_id\"], how = \"left\")"
   ]
  },
  {
   "cell_type": "code",
   "execution_count": null,
   "id": "b435296d",
   "metadata": {
    "execution": {
     "iopub.execute_input": "2021-12-27T22:10:26.359245Z",
     "iopub.status.busy": "2021-12-27T22:10:26.358610Z",
     "iopub.status.idle": "2021-12-27T22:10:26.410902Z",
     "shell.execute_reply": "2021-12-27T22:10:26.410341Z",
     "shell.execute_reply.started": "2021-12-26T09:02:50.522307Z"
    },
    "papermill": {
     "duration": 0.096054,
     "end_time": "2021-12-27T22:10:26.411039",
     "exception": false,
     "start_time": "2021-12-27T22:10:26.314985",
     "status": "completed"
    },
    "tags": []
   },
   "outputs": [
    {
     "data": {
      "text/html": [
       "<div>\n",
       "<style scoped>\n",
       "    .dataframe tbody tr th:only-of-type {\n",
       "        vertical-align: middle;\n",
       "    }\n",
       "\n",
       "    .dataframe tbody tr th {\n",
       "        vertical-align: top;\n",
       "    }\n",
       "\n",
       "    .dataframe thead th {\n",
       "        text-align: right;\n",
       "    }\n",
       "</style>\n",
       "<table border=\"1\" class=\"dataframe\">\n",
       "  <thead>\n",
       "    <tr style=\"text-align: right;\">\n",
       "      <th></th>\n",
       "      <th>id</th>\n",
       "      <th>discourse_start</th>\n",
       "      <th>discourse_end</th>\n",
       "      <th>discourse_type</th>\n",
       "      <th>essay_len</th>\n",
       "      <th>gap_length</th>\n",
       "      <th>gap_end_length</th>\n",
       "    </tr>\n",
       "  </thead>\n",
       "  <tbody>\n",
       "    <tr>\n",
       "      <th>144270</th>\n",
       "      <td>AFEC37C2D43F</td>\n",
       "      <td>0</td>\n",
       "      <td>317</td>\n",
       "      <td>Lead</td>\n",
       "      <td>3140</td>\n",
       "      <td>NaN</td>\n",
       "      <td>NaN</td>\n",
       "    </tr>\n",
       "    <tr>\n",
       "      <th>144271</th>\n",
       "      <td>AFEC37C2D43F</td>\n",
       "      <td>318</td>\n",
       "      <td>515</td>\n",
       "      <td>Position</td>\n",
       "      <td>3140</td>\n",
       "      <td>NaN</td>\n",
       "      <td>NaN</td>\n",
       "    </tr>\n",
       "    <tr>\n",
       "      <th>144272</th>\n",
       "      <td>AFEC37C2D43F</td>\n",
       "      <td>684</td>\n",
       "      <td>692</td>\n",
       "      <td>Claim</td>\n",
       "      <td>3140</td>\n",
       "      <td>167.0</td>\n",
       "      <td>NaN</td>\n",
       "    </tr>\n",
       "    <tr>\n",
       "      <th>144273</th>\n",
       "      <td>AFEC37C2D43F</td>\n",
       "      <td>693</td>\n",
       "      <td>710</td>\n",
       "      <td>Claim</td>\n",
       "      <td>3140</td>\n",
       "      <td>NaN</td>\n",
       "      <td>NaN</td>\n",
       "    </tr>\n",
       "    <tr>\n",
       "      <th>144274</th>\n",
       "      <td>AFEC37C2D43F</td>\n",
       "      <td>714</td>\n",
       "      <td>724</td>\n",
       "      <td>Claim</td>\n",
       "      <td>3140</td>\n",
       "      <td>2.0</td>\n",
       "      <td>NaN</td>\n",
       "    </tr>\n",
       "    <tr>\n",
       "      <th>144275</th>\n",
       "      <td>AFEC37C2D43F</td>\n",
       "      <td>725</td>\n",
       "      <td>1360</td>\n",
       "      <td>Evidence</td>\n",
       "      <td>3140</td>\n",
       "      <td>NaN</td>\n",
       "      <td>NaN</td>\n",
       "    </tr>\n",
       "    <tr>\n",
       "      <th>144276</th>\n",
       "      <td>AFEC37C2D43F</td>\n",
       "      <td>1361</td>\n",
       "      <td>1471</td>\n",
       "      <td>Claim</td>\n",
       "      <td>3140</td>\n",
       "      <td>NaN</td>\n",
       "      <td>NaN</td>\n",
       "    </tr>\n",
       "    <tr>\n",
       "      <th>144277</th>\n",
       "      <td>AFEC37C2D43F</td>\n",
       "      <td>1472</td>\n",
       "      <td>1881</td>\n",
       "      <td>Evidence</td>\n",
       "      <td>3140</td>\n",
       "      <td>NaN</td>\n",
       "      <td>NaN</td>\n",
       "    </tr>\n",
       "    <tr>\n",
       "      <th>144278</th>\n",
       "      <td>AFEC37C2D43F</td>\n",
       "      <td>1882</td>\n",
       "      <td>2019</td>\n",
       "      <td>Claim</td>\n",
       "      <td>3140</td>\n",
       "      <td>NaN</td>\n",
       "      <td>NaN</td>\n",
       "    </tr>\n",
       "    <tr>\n",
       "      <th>144279</th>\n",
       "      <td>AFEC37C2D43F</td>\n",
       "      <td>2029</td>\n",
       "      <td>2123</td>\n",
       "      <td>Claim</td>\n",
       "      <td>3140</td>\n",
       "      <td>8.0</td>\n",
       "      <td>NaN</td>\n",
       "    </tr>\n",
       "    <tr>\n",
       "      <th>144280</th>\n",
       "      <td>AFEC37C2D43F</td>\n",
       "      <td>2123</td>\n",
       "      <td>2702</td>\n",
       "      <td>Evidence</td>\n",
       "      <td>3140</td>\n",
       "      <td>NaN</td>\n",
       "      <td>NaN</td>\n",
       "    </tr>\n",
       "    <tr>\n",
       "      <th>144281</th>\n",
       "      <td>AFEC37C2D43F</td>\n",
       "      <td>2703</td>\n",
       "      <td>2799</td>\n",
       "      <td>Counterclaim</td>\n",
       "      <td>3140</td>\n",
       "      <td>NaN</td>\n",
       "      <td>NaN</td>\n",
       "    </tr>\n",
       "    <tr>\n",
       "      <th>144282</th>\n",
       "      <td>AFEC37C2D43F</td>\n",
       "      <td>2817</td>\n",
       "      <td>2907</td>\n",
       "      <td>Rebuttal</td>\n",
       "      <td>3140</td>\n",
       "      <td>16.0</td>\n",
       "      <td>NaN</td>\n",
       "    </tr>\n",
       "    <tr>\n",
       "      <th>144283</th>\n",
       "      <td>AFEC37C2D43F</td>\n",
       "      <td>2907</td>\n",
       "      <td>3140</td>\n",
       "      <td>Concluding Statement</td>\n",
       "      <td>3140</td>\n",
       "      <td>NaN</td>\n",
       "      <td>NaN</td>\n",
       "    </tr>\n",
       "  </tbody>\n",
       "</table>\n",
       "</div>"
      ],
      "text/plain": [
       "                  id  discourse_start  discourse_end        discourse_type  \\\n",
       "144270  AFEC37C2D43F                0            317                  Lead   \n",
       "144271  AFEC37C2D43F              318            515              Position   \n",
       "144272  AFEC37C2D43F              684            692                 Claim   \n",
       "144273  AFEC37C2D43F              693            710                 Claim   \n",
       "144274  AFEC37C2D43F              714            724                 Claim   \n",
       "144275  AFEC37C2D43F              725           1360              Evidence   \n",
       "144276  AFEC37C2D43F             1361           1471                 Claim   \n",
       "144277  AFEC37C2D43F             1472           1881              Evidence   \n",
       "144278  AFEC37C2D43F             1882           2019                 Claim   \n",
       "144279  AFEC37C2D43F             2029           2123                 Claim   \n",
       "144280  AFEC37C2D43F             2123           2702              Evidence   \n",
       "144281  AFEC37C2D43F             2703           2799          Counterclaim   \n",
       "144282  AFEC37C2D43F             2817           2907              Rebuttal   \n",
       "144283  AFEC37C2D43F             2907           3140  Concluding Statement   \n",
       "\n",
       "        essay_len  gap_length  gap_end_length  \n",
       "144270       3140         NaN             NaN  \n",
       "144271       3140         NaN             NaN  \n",
       "144272       3140       167.0             NaN  \n",
       "144273       3140         NaN             NaN  \n",
       "144274       3140         2.0             NaN  \n",
       "144275       3140         NaN             NaN  \n",
       "144276       3140         NaN             NaN  \n",
       "144277       3140         NaN             NaN  \n",
       "144278       3140         NaN             NaN  \n",
       "144279       3140         8.0             NaN  \n",
       "144280       3140         NaN             NaN  \n",
       "144281       3140         NaN             NaN  \n",
       "144282       3140        16.0             NaN  \n",
       "144283       3140         NaN             NaN  "
      ]
     },
     "execution_count": 14,
     "metadata": {},
     "output_type": "execute_result"
    }
   ],
   "source": [
    "#display an example\n",
    "cols_to_display = ['id', 'discourse_start', 'discourse_end', 'discourse_type', 'essay_len', 'gap_length', 'gap_end_length']\n",
    "train[cols_to_display].query('id == \"AFEC37C2D43F\"')"
   ]
  },
  {
   "cell_type": "code",
   "execution_count": null,
   "id": "a02839dd",
   "metadata": {
    "execution": {
     "iopub.execute_input": "2021-12-27T22:10:26.492727Z",
     "iopub.status.busy": "2021-12-27T22:10:26.492067Z",
     "iopub.status.idle": "2021-12-27T22:10:26.511682Z",
     "shell.execute_reply": "2021-12-27T22:10:26.510517Z",
     "shell.execute_reply.started": "2021-12-26T09:02:50.598764Z"
    },
    "papermill": {
     "duration": 0.062189,
     "end_time": "2021-12-27T22:10:26.511937",
     "exception": false,
     "start_time": "2021-12-27T22:10:26.449748",
     "status": "completed"
    },
    "tags": []
   },
   "outputs": [
    {
     "name": "stdout",
     "output_type": "stream",
     "text": [
      "Besides the 144293 discourse texts, there are 32162 pieces of text not classified.\n"
     ]
    }
   ],
   "source": [
    "#how many pieces of text are not used as discourses?\n",
    "print(f\"Besides the {len(train)} discourse texts, there are {len(train.query('gap_length.notna()', engine='python'))+ len(train.query('gap_end_length.notna()', engine='python'))} pieces of text not classified.\")"
   ]
  },
  {
   "cell_type": "markdown",
   "id": "11360af0",
   "metadata": {
    "papermill": {
     "duration": 0.03844,
     "end_time": "2021-12-27T22:10:26.590644",
     "exception": false,
     "start_time": "2021-12-27T22:10:26.552204",
     "status": "completed"
    },
    "tags": []
   },
   "source": [
    "Although the gaps in the example above are small, we do have huge gaps in a number of essays."
   ]
  },
  {
   "cell_type": "code",
   "execution_count": null,
   "id": "c82390f9",
   "metadata": {
    "execution": {
     "iopub.execute_input": "2021-12-27T22:10:26.675052Z",
     "iopub.status.busy": "2021-12-27T22:10:26.674122Z",
     "iopub.status.idle": "2021-12-27T22:10:26.716311Z",
     "shell.execute_reply": "2021-12-27T22:10:26.715819Z",
     "shell.execute_reply.started": "2021-12-26T09:02:50.628416Z"
    },
    "papermill": {
     "duration": 0.086395,
     "end_time": "2021-12-27T22:10:26.716471",
     "exception": false,
     "start_time": "2021-12-27T22:10:26.630076",
     "status": "completed"
    },
    "tags": []
   },
   "outputs": [
    {
     "data": {
      "text/html": [
       "<div>\n",
       "<style scoped>\n",
       "    .dataframe tbody tr th:only-of-type {\n",
       "        vertical-align: middle;\n",
       "    }\n",
       "\n",
       "    .dataframe tbody tr th {\n",
       "        vertical-align: top;\n",
       "    }\n",
       "\n",
       "    .dataframe thead th {\n",
       "        text-align: right;\n",
       "    }\n",
       "</style>\n",
       "<table border=\"1\" class=\"dataframe\">\n",
       "  <thead>\n",
       "    <tr style=\"text-align: right;\">\n",
       "      <th></th>\n",
       "      <th>id</th>\n",
       "      <th>discourse_start</th>\n",
       "      <th>discourse_end</th>\n",
       "      <th>discourse_type</th>\n",
       "      <th>essay_len</th>\n",
       "      <th>gap_length</th>\n",
       "      <th>gap_end_length</th>\n",
       "    </tr>\n",
       "  </thead>\n",
       "  <tbody>\n",
       "    <tr>\n",
       "      <th>12921</th>\n",
       "      <td>7330313ED3F0</td>\n",
       "      <td>3377</td>\n",
       "      <td>3846</td>\n",
       "      <td>Concluding Statement</td>\n",
       "      <td>3829</td>\n",
       "      <td>2245.0</td>\n",
       "      <td>NaN</td>\n",
       "    </tr>\n",
       "    <tr>\n",
       "      <th>20537</th>\n",
       "      <td>7DF12B42AB72</td>\n",
       "      <td>3596</td>\n",
       "      <td>4231</td>\n",
       "      <td>Rebuttal</td>\n",
       "      <td>6012</td>\n",
       "      <td>2232.0</td>\n",
       "      <td>NaN</td>\n",
       "    </tr>\n",
       "    <tr>\n",
       "      <th>11685</th>\n",
       "      <td>4DF55925F544</td>\n",
       "      <td>2845</td>\n",
       "      <td>3013</td>\n",
       "      <td>Evidence</td>\n",
       "      <td>3846</td>\n",
       "      <td>2137.0</td>\n",
       "      <td>NaN</td>\n",
       "    </tr>\n",
       "    <tr>\n",
       "      <th>88336</th>\n",
       "      <td>43CBE96B374E</td>\n",
       "      <td>3115</td>\n",
       "      <td>3371</td>\n",
       "      <td>Concluding Statement</td>\n",
       "      <td>3689</td>\n",
       "      <td>1726.0</td>\n",
       "      <td>318.0</td>\n",
       "    </tr>\n",
       "    <tr>\n",
       "      <th>103994</th>\n",
       "      <td>134A4DA02013</td>\n",
       "      <td>2049</td>\n",
       "      <td>2176</td>\n",
       "      <td>Claim</td>\n",
       "      <td>3301</td>\n",
       "      <td>1680.0</td>\n",
       "      <td>NaN</td>\n",
       "    </tr>\n",
       "  </tbody>\n",
       "</table>\n",
       "</div>"
      ],
      "text/plain": [
       "                  id  discourse_start  discourse_end        discourse_type  \\\n",
       "12921   7330313ED3F0             3377           3846  Concluding Statement   \n",
       "20537   7DF12B42AB72             3596           4231              Rebuttal   \n",
       "11685   4DF55925F544             2845           3013              Evidence   \n",
       "88336   43CBE96B374E             3115           3371  Concluding Statement   \n",
       "103994  134A4DA02013             2049           2176                 Claim   \n",
       "\n",
       "        essay_len  gap_length  gap_end_length  \n",
       "12921        3829      2245.0             NaN  \n",
       "20537        6012      2232.0             NaN  \n",
       "11685        3846      2137.0             NaN  \n",
       "88336        3689      1726.0           318.0  \n",
       "103994       3301      1680.0             NaN  "
      ]
     },
     "execution_count": 16,
     "metadata": {},
     "output_type": "execute_result"
    }
   ],
   "source": [
    "train.sort_values(by = \"gap_length\", ascending = False)[cols_to_display].head()"
   ]
  },
  {
   "cell_type": "code",
   "execution_count": null,
   "id": "bc8366bf",
   "metadata": {
    "execution": {
     "iopub.execute_input": "2021-12-27T22:10:26.801414Z",
     "iopub.status.busy": "2021-12-27T22:10:26.800773Z",
     "iopub.status.idle": "2021-12-27T22:10:26.838575Z",
     "shell.execute_reply": "2021-12-27T22:10:26.837941Z",
     "shell.execute_reply.started": "2021-12-26T09:02:50.683447Z"
    },
    "papermill": {
     "duration": 0.082297,
     "end_time": "2021-12-27T22:10:26.838713",
     "exception": false,
     "start_time": "2021-12-27T22:10:26.756416",
     "status": "completed"
    },
    "tags": []
   },
   "outputs": [
    {
     "data": {
      "text/html": [
       "<div>\n",
       "<style scoped>\n",
       "    .dataframe tbody tr th:only-of-type {\n",
       "        vertical-align: middle;\n",
       "    }\n",
       "\n",
       "    .dataframe tbody tr th {\n",
       "        vertical-align: top;\n",
       "    }\n",
       "\n",
       "    .dataframe thead th {\n",
       "        text-align: right;\n",
       "    }\n",
       "</style>\n",
       "<table border=\"1\" class=\"dataframe\">\n",
       "  <thead>\n",
       "    <tr style=\"text-align: right;\">\n",
       "      <th></th>\n",
       "      <th>id</th>\n",
       "      <th>discourse_start</th>\n",
       "      <th>discourse_end</th>\n",
       "      <th>discourse_type</th>\n",
       "      <th>essay_len</th>\n",
       "      <th>gap_length</th>\n",
       "      <th>gap_end_length</th>\n",
       "    </tr>\n",
       "  </thead>\n",
       "  <tbody>\n",
       "    <tr>\n",
       "      <th>28134</th>\n",
       "      <td>C278EDC82048</td>\n",
       "      <td>524</td>\n",
       "      <td>667</td>\n",
       "      <td>Evidence</td>\n",
       "      <td>8015</td>\n",
       "      <td>NaN</td>\n",
       "      <td>7348.0</td>\n",
       "    </tr>\n",
       "    <tr>\n",
       "      <th>8567</th>\n",
       "      <td>129497C3E0FC</td>\n",
       "      <td>386</td>\n",
       "      <td>443</td>\n",
       "      <td>Position</td>\n",
       "      <td>3616</td>\n",
       "      <td>103.0</td>\n",
       "      <td>3173.0</td>\n",
       "    </tr>\n",
       "    <tr>\n",
       "      <th>1204</th>\n",
       "      <td>F92664C55FBB</td>\n",
       "      <td>541</td>\n",
       "      <td>628</td>\n",
       "      <td>Evidence</td>\n",
       "      <td>3767</td>\n",
       "      <td>NaN</td>\n",
       "      <td>3139.0</td>\n",
       "    </tr>\n",
       "    <tr>\n",
       "      <th>91438</th>\n",
       "      <td>F5EE08CB44B9</td>\n",
       "      <td>124</td>\n",
       "      <td>353</td>\n",
       "      <td>Claim</td>\n",
       "      <td>3022</td>\n",
       "      <td>NaN</td>\n",
       "      <td>2669.0</td>\n",
       "    </tr>\n",
       "    <tr>\n",
       "      <th>6110</th>\n",
       "      <td>8E3B8CFD4256</td>\n",
       "      <td>1111</td>\n",
       "      <td>1295</td>\n",
       "      <td>Claim</td>\n",
       "      <td>3821</td>\n",
       "      <td>NaN</td>\n",
       "      <td>2526.0</td>\n",
       "    </tr>\n",
       "  </tbody>\n",
       "</table>\n",
       "</div>"
      ],
      "text/plain": [
       "                 id  discourse_start  discourse_end discourse_type  essay_len  \\\n",
       "28134  C278EDC82048              524            667       Evidence       8015   \n",
       "8567   129497C3E0FC              386            443       Position       3616   \n",
       "1204   F92664C55FBB              541            628       Evidence       3767   \n",
       "91438  F5EE08CB44B9              124            353          Claim       3022   \n",
       "6110   8E3B8CFD4256             1111           1295          Claim       3821   \n",
       "\n",
       "       gap_length  gap_end_length  \n",
       "28134         NaN          7348.0  \n",
       "8567        103.0          3173.0  \n",
       "1204          NaN          3139.0  \n",
       "91438         NaN          2669.0  \n",
       "6110          NaN          2526.0  "
      ]
     },
     "execution_count": 17,
     "metadata": {},
     "output_type": "execute_result"
    }
   ],
   "source": [
    "train.sort_values(by = \"gap_end_length\", ascending = False)[cols_to_display].head()"
   ]
  },
  {
   "cell_type": "markdown",
   "id": "8e2d86af",
   "metadata": {
    "papermill": {
     "duration": 0.039576,
     "end_time": "2021-12-27T22:10:26.918108",
     "exception": false,
     "start_time": "2021-12-27T22:10:26.878532",
     "status": "completed"
    },
    "tags": []
   },
   "source": [
    "Below, you can see a histogram of the length of all gaps with the outliers taken out (all gaps longer than 300 characters)."
   ]
  },
  {
   "cell_type": "code",
   "execution_count": null,
   "id": "8fa2679b",
   "metadata": {
    "_kg_hide-input": true,
    "execution": {
     "iopub.execute_input": "2021-12-27T22:10:27.005867Z",
     "iopub.status.busy": "2021-12-27T22:10:27.005199Z",
     "iopub.status.idle": "2021-12-27T22:10:27.411659Z",
     "shell.execute_reply": "2021-12-27T22:10:27.411133Z",
     "shell.execute_reply.started": "2021-12-26T09:02:50.739625Z"
    },
    "papermill": {
     "duration": 0.453611,
     "end_time": "2021-12-27T22:10:27.411795",
     "exception": false,
     "start_time": "2021-12-27T22:10:26.958184",
     "status": "completed"
    },
    "tags": []
   },
   "outputs": [
    {
     "data": {
      "image/png": "[encoded data removed]",
      "text/plain": [
       "<Figure size 864x432 with 1 Axes>"
      ]
     },
     "metadata": {},
     "output_type": "display_data"
    }
   ],
   "source": [
    "all_gaps = (train.gap_length[~train.gap_length.isna()]).append((train.gap_end_length[~train.gap_end_length.isna()]), ignore_index= True)\n",
    "#filter outliers\n",
    "all_gaps = all_gaps[all_gaps<300]\n",
    "fig = plt.figure(figsize=(12,6))\n",
    "all_gaps.plot.hist(bins=100)\n",
    "plt.title(\"Histogram of gap length (gaps up to 300 characters only)\")\n",
    "plt.xticks(rotation=0)\n",
    "plt.xlabel(\"Length of gaps in characters\")\n",
    "plt.show()"
   ]
  },
  {
   "cell_type": "markdown",
   "id": "f0e985b1",
   "metadata": {
    "papermill": {
     "duration": 0.042611,
     "end_time": "2021-12-27T22:10:28.091506",
     "exception": false,
     "start_time": "2021-12-27T22:10:28.048895",
     "status": "completed"
    },
    "tags": []
   },
   "source": [
    "# Most used words per Discourse Type\n",
    "Now, I want to find out which words are used the most for each discourse_type (stopwords excluded). I have also taken out some extra words that were all over the place in the figures for each discourse_type. I am not sure how useful this is. A first thing that I notice is that \"however,\" is used a lot in Rebuttal."
   ]
  },
  {
   "cell_type": "code",
   "execution_count": 23,
   "id": "d7c34add",
   "metadata": {
    "execution": {
     "iopub.execute_input": "2021-12-27T22:10:28.179559Z",
     "iopub.status.busy": "2021-12-27T22:10:28.178936Z",
     "iopub.status.idle": "2021-12-27T22:10:32.108175Z",
     "shell.execute_reply": "2021-12-27T22:10:32.107571Z",
     "shell.execute_reply.started": "2021-12-26T09:09:44.024569Z"
    },
    "papermill": {
     "duration": 3.974099,
     "end_time": "2021-12-27T22:10:32.108314",
     "exception": false,
     "start_time": "2021-12-27T22:10:28.134215",
     "status": "completed"
    },
    "tags": []
   },
   "outputs": [],
   "source": [
    "train['discourse_text'] = train['discourse_text'].str.lower()\n",
    "\n",
    "#get stopwords from nltk library\n",
    "stop_english = stopwords.words(\"english\")\n",
    "other_words_to_take_out = ['school', 'students', 'people', 'would', 'could', 'many']\n",
    "stop_english.extend(other_words_to_take_out)\n",
    "\n",
    "#put series of Top-10 words in dict for all discourse types\n",
    "counts_dict = {}\n",
    "for dt in train['discourse_type'].unique():\n",
    "    df = train.query('discourse_type == @dt')\n",
    "    text = df.discourse_text.apply(lambda x: x.split()).tolist()\n",
    "    text = [item for elem in text for item in elem]\n",
    "    df1 = pd.Series(text).value_counts().to_frame().reset_index()\n",
    "    df1.columns = ['Word', 'Frequency']\n",
    "    df1 = df1[~df1.Word.isin(stop_english)].head(10)\n",
    "    df1 = df1.set_index(\"Word\").sort_values(by = \"Frequency\", ascending = True) #to series\n",
    "    counts_dict[dt] = df1\n"
   ]
  },
  {
   "cell_type": "code",
   "execution_count": 24,
   "id": "fe51bbe6",
   "metadata": {
    "execution": {
     "iopub.execute_input": "2021-12-27T22:10:32.197972Z",
     "iopub.status.busy": "2021-12-27T22:10:32.197024Z",
     "iopub.status.idle": "2021-12-27T22:10:33.818799Z",
     "shell.execute_reply": "2021-12-27T22:10:33.819306Z",
     "shell.execute_reply.started": "2021-12-26T10:14:35.385043Z"
    },
    "papermill": {
     "duration": 1.668232,
     "end_time": "2021-12-27T22:10:33.819511",
     "exception": false,
     "start_time": "2021-12-27T22:10:32.151279",
     "status": "completed"
    },
    "tags": []
   },
   "outputs": [
    {
     "data": {
      "image/png": "[encoded data removed]",
      "text/plain": [
       "<Figure size 1080x864 with 7 Axes>"
      ]
     },
     "metadata": {},
     "output_type": "display_data"
    }
   ],
   "source": [
    "plt.figure(figsize=(15, 12))\n",
    "plt.subplots_adjust(hspace=0.5)\n",
    "\n",
    "keys = list(counts_dict.keys())\n",
    "\n",
    "for n, key in enumerate(keys):\n",
    "    ax = plt.subplot(4, 2, n + 1)\n",
    "    ax.set_title(f\"Most used words in {key}\")\n",
    "    counts_dict[keys[n]].plot(ax=ax, kind = 'barh')\n",
    "    plt.ylabel(\"\")"
   ]
  }
 ],
 "metadata": {
  "kernelspec": {
   "display_name": "Python 3.8 - Tensorflow",
   "language": "python",
   "name": "azureml_py38_tensorflow"
  },
  "language_info": {
   "codemirror_mode": {
    "name": "ipython",
    "version": 3
   },
   "file_extension": ".py",
   "mimetype": "text/x-python",
   "name": "python",
   "nbconvert_exporter": "python",
   "pygments_lexer": "ipython3",
   "version": "3.8.1"
  },
  "papermill": {
   "default_parameters": {},
   "duration": 208.665038,
   "end_time": "2021-12-27T22:10:37.003032",
   "environment_variables": {},
   "exception": null,
   "input_path": "__notebook__.ipynb",
   "output_path": "__notebook__.ipynb",
   "parameters": {},
   "start_time": "2021-12-27T22:07:08.337994",
   "version": "2.3.3"
  },
  "widgets": {
   "application/vnd.jupyter.widget-state+json": {
    "state": {
     "0b16724d5de74b77a5771ca63d40b3eb": {
      "model_module": "@jupyter-widgets/controls",
      "model_module_version": "1.5.0",
      "model_name": "DescriptionStyleModel",
      "state": {
       "_model_module": "@jupyter-widgets/controls",
       "_model_module_version": "1.5.0",
       "_model_name": "DescriptionStyleModel",
       "_view_count": null,
       "_view_module": "@jupyter-widgets/base",
       "_view_module_version": "1.2.0",
       "_view_name": "StyleView",
       "description_width": ""
      }
     },
     "176d709702854d999da28f3e91dbd148": {
      "model_module": "@jupyter-widgets/base",
      "model_module_version": "1.2.0",
      "model_name": "LayoutModel",
      "state": {
       "_model_module": "@jupyter-widgets/base",
       "_model_module_version": "1.2.0",
       "_model_name": "LayoutModel",
       "_view_count": null,
       "_view_module": "@jupyter-widgets/base",
       "_view_module_version": "1.2.0",
       "_view_name": "LayoutView",
       "align_content": null,
       "align_items": null,
       "align_self": null,
       "border": null,
       "bottom": null,
       "display": null,
       "flex": null,
       "flex_flow": null,
       "grid_area": null,
       "grid_auto_columns": null,
       "grid_auto_flow": null,
       "grid_auto_rows": null,
       "grid_column": null,
       "grid_gap": null,
       "grid_row": null,
       "grid_template_areas": null,
       "grid_template_columns": null,
       "grid_template_rows": null,
       "height": null,
       "justify_content": null,
       "justify_items": null,
       "left": null,
       "margin": null,
       "max_height": null,
       "max_width": null,
       "min_height": null,
       "min_width": null,
       "object_fit": null,
       "object_position": null,
       "order": null,
       "overflow": null,
       "overflow_x": null,
       "overflow_y": null,
       "padding": null,
       "right": null,
       "top": null,
       "visibility": null,
       "width": null
      }
     },
     "2b26adf7439849cf9e4f0e2a1a0e78ba": {
      "model_module": "@jupyter-widgets/controls",
      "model_module_version": "1.5.0",
      "model_name": "HTMLModel",
      "state": {
       "_dom_classes": [],
       "_model_module": "@jupyter-widgets/controls",
       "_model_module_version": "1.5.0",
       "_model_name": "HTMLModel",
       "_view_count": null,
       "_view_module": "@jupyter-widgets/controls",
       "_view_module_version": "1.5.0",
       "_view_name": "HTMLView",
       "description": "",
       "description_tooltip": null,
       "layout": "IPY_MODEL_dd17661c89534d4c8245111590ac013f",
       "placeholder": "​",
       "style": "IPY_MODEL_dba4ada4f1404810a222a809e428cd70",
       "value": "100%"
      }
     },
     "2ec056909546476b9d126799c7e49404": {
      "model_module": "@jupyter-widgets/base",
      "model_module_version": "1.2.0",
      "model_name": "LayoutModel",
      "state": {
       "_model_module": "@jupyter-widgets/base",
       "_model_module_version": "1.2.0",
       "_model_name": "LayoutModel",
       "_view_count": null,
       "_view_module": "@jupyter-widgets/base",
       "_view_module_version": "1.2.0",
       "_view_name": "LayoutView",
       "align_content": null,
       "align_items": null,
       "align_self": null,
       "border": null,
       "bottom": null,
       "display": null,
       "flex": null,
       "flex_flow": null,
       "grid_area": null,
       "grid_auto_columns": null,
       "grid_auto_flow": null,
       "grid_auto_rows": null,
       "grid_column": null,
       "grid_gap": null,
       "grid_row": null,
       "grid_template_areas": null,
       "grid_template_columns": null,
       "grid_template_rows": null,
       "height": null,
       "justify_content": null,
       "justify_items": null,
       "left": null,
       "margin": null,
       "max_height": null,
       "max_width": null,
       "min_height": null,
       "min_width": null,
       "object_fit": null,
       "object_position": null,
       "order": null,
       "overflow": null,
       "overflow_x": null,
       "overflow_y": null,
       "padding": null,
       "right": null,
       "top": null,
       "visibility": null,
       "width": null
      }
     },
     "3f496ee1d6b04edfbb60dca9b57a3c61": {
      "model_module": "@jupyter-widgets/controls",
      "model_module_version": "1.5.0",
      "model_name": "FloatProgressModel",
      "state": {
       "_dom_classes": [],
       "_model_module": "@jupyter-widgets/controls",
       "_model_module_version": "1.5.0",
       "_model_name": "FloatProgressModel",
       "_view_count": null,
       "_view_module": "@jupyter-widgets/controls",
       "_view_module_version": "1.5.0",
       "_view_name": "ProgressView",
       "bar_style": "success",
       "description": "",
       "description_tooltip": null,
       "layout": "IPY_MODEL_e89f2b1b507a44279deaa1e8f775a696",
       "max": 15594,
       "min": 0,
       "orientation": "horizontal",
       "style": "IPY_MODEL_ed9287b4fbef4627a3ecc72ff35ae823",
       "value": 15594
      }
     },
     "4d8d55ef25334529af51fda0d3e6fc5d": {
      "model_module": "@jupyter-widgets/controls",
      "model_module_version": "1.5.0",
      "model_name": "FloatProgressModel",
      "state": {
       "_dom_classes": [],
       "_model_module": "@jupyter-widgets/controls",
       "_model_module_version": "1.5.0",
       "_model_name": "FloatProgressModel",
       "_view_count": null,
       "_view_module": "@jupyter-widgets/controls",
       "_view_module_version": "1.5.0",
       "_view_name": "ProgressView",
       "bar_style": "success",
       "description": "",
       "description_tooltip": null,
       "layout": "IPY_MODEL_de99066ed14f4233a664649e43bb34a7",
       "max": 144292,
       "min": 0,
       "orientation": "horizontal",
       "style": "IPY_MODEL_e133bf5d00eb4d45ab0a35b59a8a9035",
       "value": 144292
      }
     },
     "52c798bb00ae4b66b134bf849ffb990a": {
      "model_module": "@jupyter-widgets/base",
      "model_module_version": "1.2.0",
      "model_name": "LayoutModel",
      "state": {
       "_model_module": "@jupyter-widgets/base",
       "_model_module_version": "1.2.0",
       "_model_name": "LayoutModel",
       "_view_count": null,
       "_view_module": "@jupyter-widgets/base",
       "_view_module_version": "1.2.0",
       "_view_name": "LayoutView",
       "align_content": null,
       "align_items": null,
       "align_self": null,
       "border": null,
       "bottom": null,
       "display": null,
       "flex": null,
       "flex_flow": null,
       "grid_area": null,
       "grid_auto_columns": null,
       "grid_auto_flow": null,
       "grid_auto_rows": null,
       "grid_column": null,
       "grid_gap": null,
       "grid_row": null,
       "grid_template_areas": null,
       "grid_template_columns": null,
       "grid_template_rows": null,
       "height": null,
       "justify_content": null,
       "justify_items": null,
       "left": null,
       "margin": null,
       "max_height": null,
       "max_width": null,
       "min_height": null,
       "min_width": null,
       "object_fit": null,
       "object_position": null,
       "order": null,
       "overflow": null,
       "overflow_x": null,
       "overflow_y": null,
       "padding": null,
       "right": null,
       "top": null,
       "visibility": null,
       "width": null
      }
     },
     "5dc0e801d9084ecb9f37bc1cc7bbbdbb": {
      "model_module": "@jupyter-widgets/base",
      "model_module_version": "1.2.0",
      "model_name": "LayoutModel",
      "state": {
       "_model_module": "@jupyter-widgets/base",
       "_model_module_version": "1.2.0",
       "_model_name": "LayoutModel",
       "_view_count": null,
       "_view_module": "@jupyter-widgets/base",
       "_view_module_version": "1.2.0",
       "_view_name": "LayoutView",
       "align_content": null,
       "align_items": null,
       "align_self": null,
       "border": null,
       "bottom": null,
       "display": null,
       "flex": null,
       "flex_flow": null,
       "grid_area": null,
       "grid_auto_columns": null,
       "grid_auto_flow": null,
       "grid_auto_rows": null,
       "grid_column": null,
       "grid_gap": null,
       "grid_row": null,
       "grid_template_areas": null,
       "grid_template_columns": null,
       "grid_template_rows": null,
       "height": null,
       "justify_content": null,
       "justify_items": null,
       "left": null,
       "margin": null,
       "max_height": null,
       "max_width": null,
       "min_height": null,
       "min_width": null,
       "object_fit": null,
       "object_position": null,
       "order": null,
       "overflow": null,
       "overflow_x": null,
       "overflow_y": null,
       "padding": null,
       "right": null,
       "top": null,
       "visibility": null,
       "width": null
      }
     },
     "6033d4f560674fdf8d92c71bc4d32961": {
      "model_module": "@jupyter-widgets/base",
      "model_module_version": "1.2.0",
      "model_name": "LayoutModel",
      "state": {
       "_model_module": "@jupyter-widgets/base",
       "_model_module_version": "1.2.0",
       "_model_name": "LayoutModel",
       "_view_count": null,
       "_view_module": "@jupyter-widgets/base",
       "_view_module_version": "1.2.0",
       "_view_name": "LayoutView",
       "align_content": null,
       "align_items": null,
       "align_self": null,
       "border": null,
       "bottom": null,
       "display": null,
       "flex": null,
       "flex_flow": null,
       "grid_area": null,
       "grid_auto_columns": null,
       "grid_auto_flow": null,
       "grid_auto_rows": null,
       "grid_column": null,
       "grid_gap": null,
       "grid_row": null,
       "grid_template_areas": null,
       "grid_template_columns": null,
       "grid_template_rows": null,
       "height": null,
       "justify_content": null,
       "justify_items": null,
       "left": null,
       "margin": null,
       "max_height": null,
       "max_width": null,
       "min_height": null,
       "min_width": null,
       "object_fit": null,
       "object_position": null,
       "order": null,
       "overflow": null,
       "overflow_x": null,
       "overflow_y": null,
       "padding": null,
       "right": null,
       "top": null,
       "visibility": null,
       "width": null
      }
     },
     "7119650769174d0088eb942cae112279": {
      "model_module": "@jupyter-widgets/base",
      "model_module_version": "1.2.0",
      "model_name": "LayoutModel",
      "state": {
       "_model_module": "@jupyter-widgets/base",
       "_model_module_version": "1.2.0",
       "_model_name": "LayoutModel",
       "_view_count": null,
       "_view_module": "@jupyter-widgets/base",
       "_view_module_version": "1.2.0",
       "_view_name": "LayoutView",
       "align_content": null,
       "align_items": null,
       "align_self": null,
       "border": null,
       "bottom": null,
       "display": null,
       "flex": null,
       "flex_flow": null,
       "grid_area": null,
       "grid_auto_columns": null,
       "grid_auto_flow": null,
       "grid_auto_rows": null,
       "grid_column": null,
       "grid_gap": null,
       "grid_row": null,
       "grid_template_areas": null,
       "grid_template_columns": null,
       "grid_template_rows": null,
       "height": null,
       "justify_content": null,
       "justify_items": null,
       "left": null,
       "margin": null,
       "max_height": null,
       "max_width": null,
       "min_height": null,
       "min_width": null,
       "object_fit": null,
       "object_position": null,
       "order": null,
       "overflow": null,
       "overflow_x": null,
       "overflow_y": null,
       "padding": null,
       "right": null,
       "top": null,
       "visibility": null,
       "width": null
      }
     },
     "72e266b3de1f4b60a34255328456ac67": {
      "model_module": "@jupyter-widgets/controls",
      "model_module_version": "1.5.0",
      "model_name": "FloatProgressModel",
      "state": {
       "_dom_classes": [],
       "_model_module": "@jupyter-widgets/controls",
       "_model_module_version": "1.5.0",
       "_model_name": "FloatProgressModel",
       "_view_count": null,
       "_view_module": "@jupyter-widgets/controls",
       "_view_module_version": "1.5.0",
       "_view_name": "ProgressView",
       "bar_style": "success",
       "description": "",
       "description_tooltip": null,
       "layout": "IPY_MODEL_52c798bb00ae4b66b134bf849ffb990a",
       "max": 144292,
       "min": 0,
       "orientation": "horizontal",
       "style": "IPY_MODEL_aed943fa46834da683ce6565d7865a8b",
       "value": 144292
      }
     },
     "82d005b9dec64522b9940f5ede8d4997": {
      "model_module": "@jupyter-widgets/controls",
      "model_module_version": "1.5.0",
      "model_name": "DescriptionStyleModel",
      "state": {
       "_model_module": "@jupyter-widgets/controls",
       "_model_module_version": "1.5.0",
       "_model_name": "DescriptionStyleModel",
       "_view_count": null,
       "_view_module": "@jupyter-widgets/base",
       "_view_module_version": "1.2.0",
       "_view_name": "StyleView",
       "description_width": ""
      }
     },
     "8875826973a74beb938a60664c79aa26": {
      "model_module": "@jupyter-widgets/controls",
      "model_module_version": "1.5.0",
      "model_name": "HBoxModel",
      "state": {
       "_dom_classes": [],
       "_model_module": "@jupyter-widgets/controls",
       "_model_module_version": "1.5.0",
       "_model_name": "HBoxModel",
       "_view_count": null,
       "_view_module": "@jupyter-widgets/controls",
       "_view_module_version": "1.5.0",
       "_view_name": "HBoxView",
       "box_style": "",
       "children": [
        "IPY_MODEL_ad90b67925bb47e294f82ed019f73b2a",
        "IPY_MODEL_4d8d55ef25334529af51fda0d3e6fc5d",
        "IPY_MODEL_fae349b34786430a97328e845ad500bd"
       ],
       "layout": "IPY_MODEL_176d709702854d999da28f3e91dbd148"
      }
     },
     "8a69e8de7aee488ab651cd91166b5118": {
      "model_module": "@jupyter-widgets/controls",
      "model_module_version": "1.5.0",
      "model_name": "DescriptionStyleModel",
      "state": {
       "_model_module": "@jupyter-widgets/controls",
       "_model_module_version": "1.5.0",
       "_model_name": "DescriptionStyleModel",
       "_view_count": null,
       "_view_module": "@jupyter-widgets/base",
       "_view_module_version": "1.2.0",
       "_view_name": "StyleView",
       "description_width": ""
      }
     },
     "9144cd63a7cc4b3c9840eaece1aa0b2c": {
      "model_module": "@jupyter-widgets/controls",
      "model_module_version": "1.5.0",
      "model_name": "DescriptionStyleModel",
      "state": {
       "_model_module": "@jupyter-widgets/controls",
       "_model_module_version": "1.5.0",
       "_model_name": "DescriptionStyleModel",
       "_view_count": null,
       "_view_module": "@jupyter-widgets/base",
       "_view_module_version": "1.2.0",
       "_view_name": "StyleView",
       "description_width": ""
      }
     },
     "992d52375ecd4745acccf421875c58ce": {
      "model_module": "@jupyter-widgets/controls",
      "model_module_version": "1.5.0",
      "model_name": "DescriptionStyleModel",
      "state": {
       "_model_module": "@jupyter-widgets/controls",
       "_model_module_version": "1.5.0",
       "_model_name": "DescriptionStyleModel",
       "_view_count": null,
       "_view_module": "@jupyter-widgets/base",
       "_view_module_version": "1.2.0",
       "_view_name": "StyleView",
       "description_width": ""
      }
     },
     "a05f75843b8d4b3cb040833e49870b5f": {
      "model_module": "@jupyter-widgets/controls",
      "model_module_version": "1.5.0",
      "model_name": "HBoxModel",
      "state": {
       "_dom_classes": [],
       "_model_module": "@jupyter-widgets/controls",
       "_model_module_version": "1.5.0",
       "_model_name": "HBoxModel",
       "_view_count": null,
       "_view_module": "@jupyter-widgets/controls",
       "_view_module_version": "1.5.0",
       "_view_name": "HBoxView",
       "box_style": "",
       "children": [
        "IPY_MODEL_2b26adf7439849cf9e4f0e2a1a0e78ba",
        "IPY_MODEL_72e266b3de1f4b60a34255328456ac67",
        "IPY_MODEL_f25f084130024bdb9f04c353b8b60370"
       ],
       "layout": "IPY_MODEL_fd19258ee3fb454fb5f679b54e3926b4"
      }
     },
     "a6faddfc1ee444579ca4087fee1b1353": {
      "model_module": "@jupyter-widgets/controls",
      "model_module_version": "1.5.0",
      "model_name": "HTMLModel",
      "state": {
       "_dom_classes": [],
       "_model_module": "@jupyter-widgets/controls",
       "_model_module_version": "1.5.0",
       "_model_name": "HTMLModel",
       "_view_count": null,
       "_view_module": "@jupyter-widgets/controls",
       "_view_module_version": "1.5.0",
       "_view_name": "HTMLView",
       "description": "",
       "description_tooltip": null,
       "layout": "IPY_MODEL_5dc0e801d9084ecb9f37bc1cc7bbbdbb",
       "placeholder": "​",
       "style": "IPY_MODEL_82d005b9dec64522b9940f5ede8d4997",
       "value": " 15594/15594 [00:46&lt;00:00, 358.70it/s]"
      }
     },
     "ad90b67925bb47e294f82ed019f73b2a": {
      "model_module": "@jupyter-widgets/controls",
      "model_module_version": "1.5.0",
      "model_name": "HTMLModel",
      "state": {
       "_dom_classes": [],
       "_model_module": "@jupyter-widgets/controls",
       "_model_module_version": "1.5.0",
       "_model_name": "HTMLModel",
       "_view_count": null,
       "_view_module": "@jupyter-widgets/controls",
       "_view_module_version": "1.5.0",
       "_view_name": "HTMLView",
       "description": "",
       "description_tooltip": null,
       "layout": "IPY_MODEL_2ec056909546476b9d126799c7e49404",
       "placeholder": "​",
       "style": "IPY_MODEL_0b16724d5de74b77a5771ca63d40b3eb",
       "value": "100%"
      }
     },
     "aed943fa46834da683ce6565d7865a8b": {
      "model_module": "@jupyter-widgets/controls",
      "model_module_version": "1.5.0",
      "model_name": "ProgressStyleModel",
      "state": {
       "_model_module": "@jupyter-widgets/controls",
       "_model_module_version": "1.5.0",
       "_model_name": "ProgressStyleModel",
       "_view_count": null,
       "_view_module": "@jupyter-widgets/base",
       "_view_module_version": "1.2.0",
       "_view_name": "StyleView",
       "bar_color": null,
       "description_width": ""
      }
     },
     "c503d310c7f84d0f9d2888ea64bb0bfb": {
      "model_module": "@jupyter-widgets/base",
      "model_module_version": "1.2.0",
      "model_name": "LayoutModel",
      "state": {
       "_model_module": "@jupyter-widgets/base",
       "_model_module_version": "1.2.0",
       "_model_name": "LayoutModel",
       "_view_count": null,
       "_view_module": "@jupyter-widgets/base",
       "_view_module_version": "1.2.0",
       "_view_name": "LayoutView",
       "align_content": null,
       "align_items": null,
       "align_self": null,
       "border": null,
       "bottom": null,
       "display": null,
       "flex": null,
       "flex_flow": null,
       "grid_area": null,
       "grid_auto_columns": null,
       "grid_auto_flow": null,
       "grid_auto_rows": null,
       "grid_column": null,
       "grid_gap": null,
       "grid_row": null,
       "grid_template_areas": null,
       "grid_template_columns": null,
       "grid_template_rows": null,
       "height": null,
       "justify_content": null,
       "justify_items": null,
       "left": null,
       "margin": null,
       "max_height": null,
       "max_width": null,
       "min_height": null,
       "min_width": null,
       "object_fit": null,
       "object_position": null,
       "order": null,
       "overflow": null,
       "overflow_x": null,
       "overflow_y": null,
       "padding": null,
       "right": null,
       "top": null,
       "visibility": null,
       "width": null
      }
     },
     "d837bcf32bd84c1596535e324e5ca82b": {
      "model_module": "@jupyter-widgets/controls",
      "model_module_version": "1.5.0",
      "model_name": "HTMLModel",
      "state": {
       "_dom_classes": [],
       "_model_module": "@jupyter-widgets/controls",
       "_model_module_version": "1.5.0",
       "_model_name": "HTMLModel",
       "_view_count": null,
       "_view_module": "@jupyter-widgets/controls",
       "_view_module_version": "1.5.0",
       "_view_name": "HTMLView",
       "description": "",
       "description_tooltip": null,
       "layout": "IPY_MODEL_ec0c03600b454732b55c94749adaafa0",
       "placeholder": "​",
       "style": "IPY_MODEL_992d52375ecd4745acccf421875c58ce",
       "value": "100%"
      }
     },
     "dba4ada4f1404810a222a809e428cd70": {
      "model_module": "@jupyter-widgets/controls",
      "model_module_version": "1.5.0",
      "model_name": "DescriptionStyleModel",
      "state": {
       "_model_module": "@jupyter-widgets/controls",
       "_model_module_version": "1.5.0",
       "_model_name": "DescriptionStyleModel",
       "_view_count": null,
       "_view_module": "@jupyter-widgets/base",
       "_view_module_version": "1.2.0",
       "_view_name": "StyleView",
       "description_width": ""
      }
     },
     "dd17661c89534d4c8245111590ac013f": {
      "model_module": "@jupyter-widgets/base",
      "model_module_version": "1.2.0",
      "model_name": "LayoutModel",
      "state": {
       "_model_module": "@jupyter-widgets/base",
       "_model_module_version": "1.2.0",
       "_model_name": "LayoutModel",
       "_view_count": null,
       "_view_module": "@jupyter-widgets/base",
       "_view_module_version": "1.2.0",
       "_view_name": "LayoutView",
       "align_content": null,
       "align_items": null,
       "align_self": null,
       "border": null,
       "bottom": null,
       "display": null,
       "flex": null,
       "flex_flow": null,
       "grid_area": null,
       "grid_auto_columns": null,
       "grid_auto_flow": null,
       "grid_auto_rows": null,
       "grid_column": null,
       "grid_gap": null,
       "grid_row": null,
       "grid_template_areas": null,
       "grid_template_columns": null,
       "grid_template_rows": null,
       "height": null,
       "justify_content": null,
       "justify_items": null,
       "left": null,
       "margin": null,
       "max_height": null,
       "max_width": null,
       "min_height": null,
       "min_width": null,
       "object_fit": null,
       "object_position": null,
       "order": null,
       "overflow": null,
       "overflow_x": null,
       "overflow_y": null,
       "padding": null,
       "right": null,
       "top": null,
       "visibility": null,
       "width": null
      }
     },
     "de99066ed14f4233a664649e43bb34a7": {
      "model_module": "@jupyter-widgets/base",
      "model_module_version": "1.2.0",
      "model_name": "LayoutModel",
      "state": {
       "_model_module": "@jupyter-widgets/base",
       "_model_module_version": "1.2.0",
       "_model_name": "LayoutModel",
       "_view_count": null,
       "_view_module": "@jupyter-widgets/base",
       "_view_module_version": "1.2.0",
       "_view_name": "LayoutView",
       "align_content": null,
       "align_items": null,
       "align_self": null,
       "border": null,
       "bottom": null,
       "display": null,
       "flex": null,
       "flex_flow": null,
       "grid_area": null,
       "grid_auto_columns": null,
       "grid_auto_flow": null,
       "grid_auto_rows": null,
       "grid_column": null,
       "grid_gap": null,
       "grid_row": null,
       "grid_template_areas": null,
       "grid_template_columns": null,
       "grid_template_rows": null,
       "height": null,
       "justify_content": null,
       "justify_items": null,
       "left": null,
       "margin": null,
       "max_height": null,
       "max_width": null,
       "min_height": null,
       "min_width": null,
       "object_fit": null,
       "object_position": null,
       "order": null,
       "overflow": null,
       "overflow_x": null,
       "overflow_y": null,
       "padding": null,
       "right": null,
       "top": null,
       "visibility": null,
       "width": null
      }
     },
     "e133bf5d00eb4d45ab0a35b59a8a9035": {
      "model_module": "@jupyter-widgets/controls",
      "model_module_version": "1.5.0",
      "model_name": "ProgressStyleModel",
      "state": {
       "_model_module": "@jupyter-widgets/controls",
       "_model_module_version": "1.5.0",
       "_model_name": "ProgressStyleModel",
       "_view_count": null,
       "_view_module": "@jupyter-widgets/base",
       "_view_module_version": "1.2.0",
       "_view_name": "StyleView",
       "bar_color": null,
       "description_width": ""
      }
     },
     "e89f2b1b507a44279deaa1e8f775a696": {
      "model_module": "@jupyter-widgets/base",
      "model_module_version": "1.2.0",
      "model_name": "LayoutModel",
      "state": {
       "_model_module": "@jupyter-widgets/base",
       "_model_module_version": "1.2.0",
       "_model_name": "LayoutModel",
       "_view_count": null,
       "_view_module": "@jupyter-widgets/base",
       "_view_module_version": "1.2.0",
       "_view_name": "LayoutView",
       "align_content": null,
       "align_items": null,
       "align_self": null,
       "border": null,
       "bottom": null,
       "display": null,
       "flex": null,
       "flex_flow": null,
       "grid_area": null,
       "grid_auto_columns": null,
       "grid_auto_flow": null,
       "grid_auto_rows": null,
       "grid_column": null,
       "grid_gap": null,
       "grid_row": null,
       "grid_template_areas": null,
       "grid_template_columns": null,
       "grid_template_rows": null,
       "height": null,
       "justify_content": null,
       "justify_items": null,
       "left": null,
       "margin": null,
       "max_height": null,
       "max_width": null,
       "min_height": null,
       "min_width": null,
       "object_fit": null,
       "object_position": null,
       "order": null,
       "overflow": null,
       "overflow_x": null,
       "overflow_y": null,
       "padding": null,
       "right": null,
       "top": null,
       "visibility": null,
       "width": null
      }
     },
     "ec0c03600b454732b55c94749adaafa0": {
      "model_module": "@jupyter-widgets/base",
      "model_module_version": "1.2.0",
      "model_name": "LayoutModel",
      "state": {
       "_model_module": "@jupyter-widgets/base",
       "_model_module_version": "1.2.0",
       "_model_name": "LayoutModel",
       "_view_count": null,
       "_view_module": "@jupyter-widgets/base",
       "_view_module_version": "1.2.0",
       "_view_name": "LayoutView",
       "align_content": null,
       "align_items": null,
       "align_self": null,
       "border": null,
       "bottom": null,
       "display": null,
       "flex": null,
       "flex_flow": null,
       "grid_area": null,
       "grid_auto_columns": null,
       "grid_auto_flow": null,
       "grid_auto_rows": null,
       "grid_column": null,
       "grid_gap": null,
       "grid_row": null,
       "grid_template_areas": null,
       "grid_template_columns": null,
       "grid_template_rows": null,
       "height": null,
       "justify_content": null,
       "justify_items": null,
       "left": null,
       "margin": null,
       "max_height": null,
       "max_width": null,
       "min_height": null,
       "min_width": null,
       "object_fit": null,
       "object_position": null,
       "order": null,
       "overflow": null,
       "overflow_x": null,
       "overflow_y": null,
       "padding": null,
       "right": null,
       "top": null,
       "visibility": null,
       "width": null
      }
     },
     "ed9287b4fbef4627a3ecc72ff35ae823": {
      "model_module": "@jupyter-widgets/controls",
      "model_module_version": "1.5.0",
      "model_name": "ProgressStyleModel",
      "state": {
       "_model_module": "@jupyter-widgets/controls",
       "_model_module_version": "1.5.0",
       "_model_name": "ProgressStyleModel",
       "_view_count": null,
       "_view_module": "@jupyter-widgets/base",
       "_view_module_version": "1.2.0",
       "_view_name": "StyleView",
       "bar_color": null,
       "description_width": ""
      }
     },
     "f25f084130024bdb9f04c353b8b60370": {
      "model_module": "@jupyter-widgets/controls",
      "model_module_version": "1.5.0",
      "model_name": "HTMLModel",
      "state": {
       "_dom_classes": [],
       "_model_module": "@jupyter-widgets/controls",
       "_model_module_version": "1.5.0",
       "_model_name": "HTMLModel",
       "_view_count": null,
       "_view_module": "@jupyter-widgets/controls",
       "_view_module_version": "1.5.0",
       "_view_name": "HTMLView",
       "description": "",
       "description_tooltip": null,
       "layout": "IPY_MODEL_c503d310c7f84d0f9d2888ea64bb0bfb",
       "placeholder": "​",
       "style": "IPY_MODEL_8a69e8de7aee488ab651cd91166b5118",
       "value": " 144292/144292 [00:31&lt;00:00, 2945.85it/s]"
      }
     },
     "fae349b34786430a97328e845ad500bd": {
      "model_module": "@jupyter-widgets/controls",
      "model_module_version": "1.5.0",
      "model_name": "HTMLModel",
      "state": {
       "_dom_classes": [],
       "_model_module": "@jupyter-widgets/controls",
       "_model_module_version": "1.5.0",
       "_model_name": "HTMLModel",
       "_view_count": null,
       "_view_module": "@jupyter-widgets/controls",
       "_view_module_version": "1.5.0",
       "_view_name": "HTMLView",
       "description": "",
       "description_tooltip": null,
       "layout": "IPY_MODEL_6033d4f560674fdf8d92c71bc4d32961",
       "placeholder": "​",
       "style": "IPY_MODEL_9144cd63a7cc4b3c9840eaece1aa0b2c",
       "value": " 144292/144292 [01:33&lt;00:00, 1575.46it/s]"
      }
     },
     "fb0a02f806434b69a1b0466ce0e65fd5": {
      "model_module": "@jupyter-widgets/controls",
      "model_module_version": "1.5.0",
      "model_name": "HBoxModel",
      "state": {
       "_dom_classes": [],
       "_model_module": "@jupyter-widgets/controls",
       "_model_module_version": "1.5.0",
       "_model_name": "HBoxModel",
       "_view_count": null,
       "_view_module": "@jupyter-widgets/controls",
       "_view_module_version": "1.5.0",
       "_view_name": "HBoxView",
       "box_style": "",
       "children": [
        "IPY_MODEL_d837bcf32bd84c1596535e324e5ca82b",
        "IPY_MODEL_3f496ee1d6b04edfbb60dca9b57a3c61",
        "IPY_MODEL_a6faddfc1ee444579ca4087fee1b1353"
       ],
       "layout": "IPY_MODEL_7119650769174d0088eb942cae112279"
      }
     },
     "fd19258ee3fb454fb5f679b54e3926b4": {
      "model_module": "@jupyter-widgets/base",
      "model_module_version": "1.2.0",
      "model_name": "LayoutModel",
      "state": {
       "_model_module": "@jupyter-widgets/base",
       "_model_module_version": "1.2.0",
       "_model_name": "LayoutModel",
       "_view_count": null,
       "_view_module": "@jupyter-widgets/base",
       "_view_module_version": "1.2.0",
       "_view_name": "LayoutView",
       "align_content": null,
       "align_items": null,
       "align_self": null,
       "border": null,
       "bottom": null,
       "display": null,
       "flex": null,
       "flex_flow": null,
       "grid_area": null,
       "grid_auto_columns": null,
       "grid_auto_flow": null,
       "grid_auto_rows": null,
       "grid_column": null,
       "grid_gap": null,
       "grid_row": null,
       "grid_template_areas": null,
       "grid_template_columns": null,
       "grid_template_rows": null,
       "height": null,
       "justify_content": null,
       "justify_items": null,
       "left": null,
       "margin": null,
       "max_height": null,
       "max_width": null,
       "min_height": null,
       "min_width": null,
       "object_fit": null,
       "object_position": null,
       "order": null,
       "overflow": null,
       "overflow_x": null,
       "overflow_y": null,
       "padding": null,
       "right": null,
       "top": null,
       "visibility": null,
       "width": null
      }
     }
    },
    "version_major": 2,
    "version_minor": 0
   }
  }
 },
 "nbformat": 4,
 "nbformat_minor": 5
}
