{
 "cells": [
  {
   "cell_type": "code",
   "execution_count": 1,
   "metadata": {},
   "outputs": [],
   "source": [
    "\"\"\"\n",
    "Changing working directory to repository path \n",
    "in order to make simpler references to files/folder.\n",
    "\n",
    "Also, adding src folder in the repository to import\n",
    "any code that has been moved to py files for reusability\n",
    "\"\"\"\n",
    "\n",
    "import os\n",
    "REPOSITORY_PATH = '/mnt/batch/tasks/shared/LS_root/mounts/clusters/mlgpu2/code/Users/santiago.a.diez/evaluating-student-writing-kaggle-challenge'\n",
    "os.chdir(REPOSITORY_PATH)\n",
    "import sys  \n",
    "sys.path.insert(0, 'src')"
   ]
  },
  {
   "cell_type": "code",
   "execution_count": 2,
   "metadata": {},
   "outputs": [],
   "source": [
    "import numpy as np\n",
    "import pandas as pd\n",
    "from glob import glob\n",
    "from tqdm.notebook import tqdm\n",
    "import warnings\n",
    "warnings.filterwarnings('ignore')\n",
    "\n",
    "from eswkg.config import Config"
   ]
  },
  {
   "cell_type": "code",
   "execution_count": 7,
   "metadata": {},
   "outputs": [],
   "source": [
    "def read_essay(essay_id, train_folder = Config.get_all_file_paths()[\"train_folder\"]):\n",
    "    with open(train_folder + f\"/{essay_id}.txt\") as f:\n",
    "        essay = f.read()\n",
    "    return essay\n",
    "\n",
    "def read_essays(train_txt):\n",
    "    train_txt_file_id, train_txt_file_text = [],[]\n",
    "    for train_txt_file in train_txt:\n",
    "        essay_id = os.path.basename(train_txt_file).rsplit(\".\",1)[0]\n",
    "\n",
    "        train_txt_file_id.append(essay_id)\n",
    "        train_txt_file_text.append(read_essay(essay_id))\n",
    "    return pd.DataFrame({\"id\":train_txt_file_id, \"text\":train_txt_file_text})\n",
    "\n",
    "def get_essay_entities(essay_text, essay_metadata):\n",
    "    essay_entities = [\"O\"]*len(essay_text.split())\n",
    "    for discourse_type, predictionstring in zip(essay_metadata[\"discourse_type\"],essay_metadata[\"predictionstring\"]):\n",
    "        predictionstring_digits = list(map(int, predictionstring.split()))\n",
    "\n",
    "        essay_entities[predictionstring_digits[0]] = f\"B-{discourse_type}\"\n",
    "        for predictionstring_digits_index in predictionstring_digits[1:]:\n",
    "           essay_entities[predictionstring_digits_index] = f\"I-{discourse_type}\"\n",
    "    \n",
    "    return essay_entities\n",
    "\n",
    "def tag_essays(essays, essays_metadata):\n",
    "    tagged_essays = pd.DataFrame()\n",
    "    tagged_essays_list = []\n",
    "    for _, essay in essays.iterrows():\n",
    "        essay_id = essay[\"id\"]\n",
    "        essay_text = essay[\"text\"]\n",
    "        essay_metadata = essays_metadata.query(\"id == @essay_id\")\n",
    "        essay_entities = get_essay_entities(essay_text, essay_metadata)\n",
    "\n",
    "        tagged_essays_list.append( \n",
    "            {\n",
    "                \"id\": essay_id,\n",
    "                \"text\": essay_text,\n",
    "                \"entities\": essay_entities\n",
    "            }\n",
    "        )\n",
    "    return pd.DataFrame.from_dict(tagged_essays_list)\n"
   ]
  },
  {
   "cell_type": "code",
   "execution_count": 4,
   "metadata": {},
   "outputs": [],
   "source": [
    "file_paths = Config.get_all_file_paths()"
   ]
  },
  {
   "cell_type": "code",
   "execution_count": 11,
   "metadata": {},
   "outputs": [],
   "source": [
    "essays_metadata = pd.read_csv(file_paths[\"train\"])\n",
    "train[['discourse_id', 'discourse_start', 'discourse_end']] = train[['discourse_id', 'discourse_start', 'discourse_end']].astype(int)\n",
    "\n",
    "sample_submission = pd.read_csv(file_paths[\"sample_submission\"])\n",
    "\n",
    "#The glob module finds all the pathnames matching a specified pattern according to the rules used by the Unix shell\n",
    "train_txt = glob(file_paths[\"train_folder\"] + \"/*.txt\") \n",
    "test_txt = glob(file_paths[\"test_folder\"] + \"/*.txt\")"
   ]
  },
  {
   "cell_type": "code",
   "execution_count": 8,
   "metadata": {},
   "outputs": [],
   "source": [
    "create_train_text_file = False\n",
    "\n",
    "train_text_path = file_paths[\"intermediate\"]+\"/train_text.csv\"\n",
    "if create_train_text_file:\n",
    "    read_essays(train_txt).to_csv(train_text_path, index=False)\n",
    "\n",
    "if os.path.isfile(train_text_path):\n",
    "    essays = pd.read_csv(train_text_path)\n",
    "else:\n",
    "    print(f\"File {train_text_path} does not exist.\")"
   ]
  },
  {
   "cell_type": "code",
   "execution_count": 33,
   "metadata": {},
   "outputs": [],
   "source": [
    "tagged_essays = tag_essays(essays=essays, essays_metadata=essays_metadata)"
   ]
  }
 ],
 "metadata": {
  "kernelspec": {
   "display_name": "Python 3.8 - PyTorch",
   "language": "python",
   "name": "azureml_py38_pytorch"
  },
  "language_info": {
   "codemirror_mode": {
    "name": "ipython",
    "version": 3
   },
   "file_extension": ".py",
   "mimetype": "text/x-python",
   "name": "python",
   "nbconvert_exporter": "python",
   "pygments_lexer": "ipython3",
   "version": "3.8.1"
  }
 },
 "nbformat": 4,
 "nbformat_minor": 2
}
