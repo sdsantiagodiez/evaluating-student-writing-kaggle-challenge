{
 "cells": [
  {
   "cell_type": "code",
   "execution_count": 31,
   "metadata": {},
   "outputs": [],
   "source": [
    "import pandas as pd\n",
    "from kedro.extras.datasets.pandas import CSVDataSet\n",
    "import warnings\n",
    "warnings.filterwarnings(\"ignore\")"
   ]
  },
  {
   "cell_type": "code",
   "execution_count": 44,
   "metadata": {},
   "outputs": [],
   "source": [
    "#YAML configuration gathering\n",
    "import yaml\n",
    "import logging\n",
    "    \n",
    "class Config:\n",
    "    _repository_file_path = \"/home/azureuser/cloudfiles/code/Users/santiago.a.diez/evaluating-student-writing-kaggle-challenge\"\n",
    "    _catalog_file_path = _repository_file_path + \"/conf/base/catalog.yml\"\n",
    "\n",
    "    def __init__(self,repository_file_path):\n",
    "        self._repository_file_path = repository_file_path\n",
    "\n",
    "    def _get_catalog_config(catalog_file_path=_catalog_file_path):\n",
    "        with open(catalog_file_path, \"r\") as stream:\n",
    "            try:\n",
    "                catalog = yaml.safe_load(stream)\n",
    "            except yaml.YAMLError as exc:\n",
    "                logging.exception(\"Error occurred while opening yaml catalog file\")\n",
    "            \n",
    "        return catalog\n",
    "\n",
    "    def get_train_config(catalog_file_path=_catalog_file_path):\n",
    "        catalog_config = _get_catalog_config(catalog_file_path)\n",
    "        return catalog_config[\"train\"]"
   ]
  },
  {
   "cell_type": "code",
   "execution_count": 49,
   "metadata": {},
   "outputs": [],
   "source": [
    "df = pd.read_csv(Config.get_train_config()[\"filepath\"])"
   ]
  }
 ],
 "metadata": {
  "kernelspec": {
   "display_name": "Python 3.8 - Tensorflow",
   "language": "python",
   "name": "azureml_py38_tensorflow"
  },
  "language_info": {
   "codemirror_mode": {
    "name": "ipython",
    "version": 3
   },
   "file_extension": ".py",
   "mimetype": "text/x-python",
   "name": "python",
   "nbconvert_exporter": "python",
   "pygments_lexer": "ipython3",
   "version": "3.8.1"
  }
 },
 "nbformat": 4,
 "nbformat_minor": 2
}
